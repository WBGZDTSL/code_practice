{
 "cells": [
  {
   "cell_type": "code",
   "execution_count": 2,
   "metadata": {
    "collapsed": true,
    "pycharm": {
     "name": "#%%\n"
    }
   },
   "outputs": [],
   "source": [
    "import pandas as pd\n",
    "import numpy as np"
   ]
  },
  {
   "cell_type": "code",
   "execution_count": 3,
   "outputs": [
    {
     "data": {
      "text/plain": "     School Class Gender   Address  Height  Weight  Math Physics\nID                                                              \n1101    S_1   C_1      M  street_1     173      63  34.0      A+\n1102    S_1   C_1      F  street_2     192      73  32.5      B+\n1103    S_1   C_1      M  street_2     186      82  87.2      B+\n1104    S_1   C_1      F  street_2     167      81  80.4      B-\n1105    S_1   C_1      F  street_4     159      64  84.8      B+\n1201    S_1   C_2      M  street_5     188      68  97.0      A-\n1202    S_1   C_2      F  street_4     176      94  63.5      B-\n1203    S_1   C_2      M  street_6     160      53  58.8      A+\n1204    S_1   C_2      F  street_5     162      63  33.8       B\n1205    S_1   C_2      F  street_6     167      63  68.4      B-",
      "text/html": "<div>\n<style scoped>\n    .dataframe tbody tr th:only-of-type {\n        vertical-align: middle;\n    }\n\n    .dataframe tbody tr th {\n        vertical-align: top;\n    }\n\n    .dataframe thead th {\n        text-align: right;\n    }\n</style>\n<table border=\"1\" class=\"dataframe\">\n  <thead>\n    <tr style=\"text-align: right;\">\n      <th></th>\n      <th>School</th>\n      <th>Class</th>\n      <th>Gender</th>\n      <th>Address</th>\n      <th>Height</th>\n      <th>Weight</th>\n      <th>Math</th>\n      <th>Physics</th>\n    </tr>\n    <tr>\n      <th>ID</th>\n      <th></th>\n      <th></th>\n      <th></th>\n      <th></th>\n      <th></th>\n      <th></th>\n      <th></th>\n      <th></th>\n    </tr>\n  </thead>\n  <tbody>\n    <tr>\n      <th>1101</th>\n      <td>S_1</td>\n      <td>C_1</td>\n      <td>M</td>\n      <td>street_1</td>\n      <td>173</td>\n      <td>63</td>\n      <td>34.0</td>\n      <td>A+</td>\n    </tr>\n    <tr>\n      <th>1102</th>\n      <td>S_1</td>\n      <td>C_1</td>\n      <td>F</td>\n      <td>street_2</td>\n      <td>192</td>\n      <td>73</td>\n      <td>32.5</td>\n      <td>B+</td>\n    </tr>\n    <tr>\n      <th>1103</th>\n      <td>S_1</td>\n      <td>C_1</td>\n      <td>M</td>\n      <td>street_2</td>\n      <td>186</td>\n      <td>82</td>\n      <td>87.2</td>\n      <td>B+</td>\n    </tr>\n    <tr>\n      <th>1104</th>\n      <td>S_1</td>\n      <td>C_1</td>\n      <td>F</td>\n      <td>street_2</td>\n      <td>167</td>\n      <td>81</td>\n      <td>80.4</td>\n      <td>B-</td>\n    </tr>\n    <tr>\n      <th>1105</th>\n      <td>S_1</td>\n      <td>C_1</td>\n      <td>F</td>\n      <td>street_4</td>\n      <td>159</td>\n      <td>64</td>\n      <td>84.8</td>\n      <td>B+</td>\n    </tr>\n    <tr>\n      <th>1201</th>\n      <td>S_1</td>\n      <td>C_2</td>\n      <td>M</td>\n      <td>street_5</td>\n      <td>188</td>\n      <td>68</td>\n      <td>97.0</td>\n      <td>A-</td>\n    </tr>\n    <tr>\n      <th>1202</th>\n      <td>S_1</td>\n      <td>C_2</td>\n      <td>F</td>\n      <td>street_4</td>\n      <td>176</td>\n      <td>94</td>\n      <td>63.5</td>\n      <td>B-</td>\n    </tr>\n    <tr>\n      <th>1203</th>\n      <td>S_1</td>\n      <td>C_2</td>\n      <td>M</td>\n      <td>street_6</td>\n      <td>160</td>\n      <td>53</td>\n      <td>58.8</td>\n      <td>A+</td>\n    </tr>\n    <tr>\n      <th>1204</th>\n      <td>S_1</td>\n      <td>C_2</td>\n      <td>F</td>\n      <td>street_5</td>\n      <td>162</td>\n      <td>63</td>\n      <td>33.8</td>\n      <td>B</td>\n    </tr>\n    <tr>\n      <th>1205</th>\n      <td>S_1</td>\n      <td>C_2</td>\n      <td>F</td>\n      <td>street_6</td>\n      <td>167</td>\n      <td>63</td>\n      <td>68.4</td>\n      <td>B-</td>\n    </tr>\n  </tbody>\n</table>\n</div>"
     },
     "execution_count": 3,
     "metadata": {},
     "output_type": "execute_result"
    }
   ],
   "source": [
    "# df =pd.read_csv(r'C:/Users/jweiban/PycharmProjects/code_practice/Pandas_prac/data/table.csv',index_col=\"ID\")#JCI Address\n",
    "df = pd.read_csv('C:/Users/97344/PycharmProjects/code_practice/Pandas_prac/data/table.csv',index_col='ID')#WBG Address\n",
    "df.head(10)"
   ],
   "metadata": {
    "collapsed": false,
    "pycharm": {
     "name": "#%%\n"
    }
   }
  },
  {
   "cell_type": "markdown",
   "source": [
    "groupby function"
   ],
   "metadata": {
    "collapsed": false,
    "pycharm": {
     "name": "#%% md\n"
    }
   }
  },
  {
   "cell_type": "code",
   "execution_count": 4,
   "outputs": [],
   "source": [
    "grouped_single = df.groupby('School')"
   ],
   "metadata": {
    "collapsed": false,
    "pycharm": {
     "name": "#%%\n"
    }
   }
  },
  {
   "cell_type": "code",
   "execution_count": 7,
   "outputs": [
    {
     "data": {
      "text/plain": "     School Class Gender   Address  Height  Weight  Math Physics\nID                                                              \n1101    S_1   C_1      M  street_1     173      63  34.0      A+\n1102    S_1   C_1      F  street_2     192      73  32.5      B+\n1103    S_1   C_1      M  street_2     186      82  87.2      B+\n1104    S_1   C_1      F  street_2     167      81  80.4      B-\n1105    S_1   C_1      F  street_4     159      64  84.8      B+",
      "text/html": "<div>\n<style scoped>\n    .dataframe tbody tr th:only-of-type {\n        vertical-align: middle;\n    }\n\n    .dataframe tbody tr th {\n        vertical-align: top;\n    }\n\n    .dataframe thead th {\n        text-align: right;\n    }\n</style>\n<table border=\"1\" class=\"dataframe\">\n  <thead>\n    <tr style=\"text-align: right;\">\n      <th></th>\n      <th>School</th>\n      <th>Class</th>\n      <th>Gender</th>\n      <th>Address</th>\n      <th>Height</th>\n      <th>Weight</th>\n      <th>Math</th>\n      <th>Physics</th>\n    </tr>\n    <tr>\n      <th>ID</th>\n      <th></th>\n      <th></th>\n      <th></th>\n      <th></th>\n      <th></th>\n      <th></th>\n      <th></th>\n      <th></th>\n    </tr>\n  </thead>\n  <tbody>\n    <tr>\n      <th>1101</th>\n      <td>S_1</td>\n      <td>C_1</td>\n      <td>M</td>\n      <td>street_1</td>\n      <td>173</td>\n      <td>63</td>\n      <td>34.0</td>\n      <td>A+</td>\n    </tr>\n    <tr>\n      <th>1102</th>\n      <td>S_1</td>\n      <td>C_1</td>\n      <td>F</td>\n      <td>street_2</td>\n      <td>192</td>\n      <td>73</td>\n      <td>32.5</td>\n      <td>B+</td>\n    </tr>\n    <tr>\n      <th>1103</th>\n      <td>S_1</td>\n      <td>C_1</td>\n      <td>M</td>\n      <td>street_2</td>\n      <td>186</td>\n      <td>82</td>\n      <td>87.2</td>\n      <td>B+</td>\n    </tr>\n    <tr>\n      <th>1104</th>\n      <td>S_1</td>\n      <td>C_1</td>\n      <td>F</td>\n      <td>street_2</td>\n      <td>167</td>\n      <td>81</td>\n      <td>80.4</td>\n      <td>B-</td>\n    </tr>\n    <tr>\n      <th>1105</th>\n      <td>S_1</td>\n      <td>C_1</td>\n      <td>F</td>\n      <td>street_4</td>\n      <td>159</td>\n      <td>64</td>\n      <td>84.8</td>\n      <td>B+</td>\n    </tr>\n  </tbody>\n</table>\n</div>"
     },
     "execution_count": 7,
     "metadata": {},
     "output_type": "execute_result"
    }
   ],
   "source": [
    "grouped_single.get_group('S_1').head()"
   ],
   "metadata": {
    "collapsed": false,
    "pycharm": {
     "name": "#%%\n"
    }
   }
  },
  {
   "cell_type": "code",
   "execution_count": 9,
   "outputs": [
    {
     "data": {
      "text/plain": "     School Class Gender   Address  Height  Weight  Math Physics\nID                                                              \n2401    S_2   C_4      F  street_2     192      62  45.3       A\n2402    S_2   C_4      M  street_7     166      82  48.7       B\n2403    S_2   C_4      F  street_6     158      60  59.7      B+\n2404    S_2   C_4      F  street_2     160      84  67.7       B\n2405    S_2   C_4      F  street_6     193      54  47.6       B",
      "text/html": "<div>\n<style scoped>\n    .dataframe tbody tr th:only-of-type {\n        vertical-align: middle;\n    }\n\n    .dataframe tbody tr th {\n        vertical-align: top;\n    }\n\n    .dataframe thead th {\n        text-align: right;\n    }\n</style>\n<table border=\"1\" class=\"dataframe\">\n  <thead>\n    <tr style=\"text-align: right;\">\n      <th></th>\n      <th>School</th>\n      <th>Class</th>\n      <th>Gender</th>\n      <th>Address</th>\n      <th>Height</th>\n      <th>Weight</th>\n      <th>Math</th>\n      <th>Physics</th>\n    </tr>\n    <tr>\n      <th>ID</th>\n      <th></th>\n      <th></th>\n      <th></th>\n      <th></th>\n      <th></th>\n      <th></th>\n      <th></th>\n      <th></th>\n    </tr>\n  </thead>\n  <tbody>\n    <tr>\n      <th>2401</th>\n      <td>S_2</td>\n      <td>C_4</td>\n      <td>F</td>\n      <td>street_2</td>\n      <td>192</td>\n      <td>62</td>\n      <td>45.3</td>\n      <td>A</td>\n    </tr>\n    <tr>\n      <th>2402</th>\n      <td>S_2</td>\n      <td>C_4</td>\n      <td>M</td>\n      <td>street_7</td>\n      <td>166</td>\n      <td>82</td>\n      <td>48.7</td>\n      <td>B</td>\n    </tr>\n    <tr>\n      <th>2403</th>\n      <td>S_2</td>\n      <td>C_4</td>\n      <td>F</td>\n      <td>street_6</td>\n      <td>158</td>\n      <td>60</td>\n      <td>59.7</td>\n      <td>B+</td>\n    </tr>\n    <tr>\n      <th>2404</th>\n      <td>S_2</td>\n      <td>C_4</td>\n      <td>F</td>\n      <td>street_2</td>\n      <td>160</td>\n      <td>84</td>\n      <td>67.7</td>\n      <td>B</td>\n    </tr>\n    <tr>\n      <th>2405</th>\n      <td>S_2</td>\n      <td>C_4</td>\n      <td>F</td>\n      <td>street_6</td>\n      <td>193</td>\n      <td>54</td>\n      <td>47.6</td>\n      <td>B</td>\n    </tr>\n  </tbody>\n</table>\n</div>"
     },
     "execution_count": 9,
     "metadata": {},
     "output_type": "execute_result"
    }
   ],
   "source": [
    "grouped_mul = df.groupby(['School','Class'])\n",
    "grouped_mul.get_group(('S_2','C_4'))"
   ],
   "metadata": {
    "collapsed": false,
    "pycharm": {
     "name": "#%%\n"
    }
   }
  },
  {
   "cell_type": "code",
   "execution_count": 8,
   "outputs": [
    {
     "data": {
      "text/plain": "School\nS_1    15\nS_2    20\ndtype: int64"
     },
     "execution_count": 8,
     "metadata": {},
     "output_type": "execute_result"
    }
   ],
   "source": [
    "grouped_single.size()"
   ],
   "metadata": {
    "collapsed": false,
    "pycharm": {
     "name": "#%%\n"
    }
   }
  },
  {
   "cell_type": "code",
   "execution_count": 10,
   "outputs": [
    {
     "data": {
      "text/plain": "School  Class\nS_1     C_1      5\n        C_2      5\n        C_3      5\nS_2     C_1      5\n        C_2      5\n        C_3      5\n        C_4      5\ndtype: int64"
     },
     "execution_count": 10,
     "metadata": {},
     "output_type": "execute_result"
    }
   ],
   "source": [
    "grouped_mul.size()"
   ],
   "metadata": {
    "collapsed": false,
    "pycharm": {
     "name": "#%%\n"
    }
   }
  },
  {
   "cell_type": "code",
   "execution_count": 11,
   "outputs": [
    {
     "data": {
      "text/plain": "7"
     },
     "execution_count": 11,
     "metadata": {},
     "output_type": "execute_result"
    }
   ],
   "source": [
    "grouped_mul.ngroups"
   ],
   "metadata": {
    "collapsed": false,
    "pycharm": {
     "name": "#%%\n"
    }
   }
  },
  {
   "cell_type": "code",
   "execution_count": 12,
   "outputs": [
    {
     "data": {
      "text/plain": "2"
     },
     "execution_count": 12,
     "metadata": {},
     "output_type": "execute_result"
    }
   ],
   "source": [
    "grouped_single.ngroups"
   ],
   "metadata": {
    "collapsed": false,
    "pycharm": {
     "name": "#%%\n"
    }
   }
  },
  {
   "cell_type": "code",
   "execution_count": 13,
   "outputs": [
    {
     "name": "stdout",
     "output_type": "stream",
     "text": [
      "S_1\n"
     ]
    },
    {
     "data": {
      "text/plain": "     School Class Gender   Address  Height  Weight  Math Physics\nID                                                              \n1101    S_1   C_1      M  street_1     173      63  34.0      A+\n1102    S_1   C_1      F  street_2     192      73  32.5      B+\n1103    S_1   C_1      M  street_2     186      82  87.2      B+\n1104    S_1   C_1      F  street_2     167      81  80.4      B-\n1105    S_1   C_1      F  street_4     159      64  84.8      B+",
      "text/html": "<div>\n<style scoped>\n    .dataframe tbody tr th:only-of-type {\n        vertical-align: middle;\n    }\n\n    .dataframe tbody tr th {\n        vertical-align: top;\n    }\n\n    .dataframe thead th {\n        text-align: right;\n    }\n</style>\n<table border=\"1\" class=\"dataframe\">\n  <thead>\n    <tr style=\"text-align: right;\">\n      <th></th>\n      <th>School</th>\n      <th>Class</th>\n      <th>Gender</th>\n      <th>Address</th>\n      <th>Height</th>\n      <th>Weight</th>\n      <th>Math</th>\n      <th>Physics</th>\n    </tr>\n    <tr>\n      <th>ID</th>\n      <th></th>\n      <th></th>\n      <th></th>\n      <th></th>\n      <th></th>\n      <th></th>\n      <th></th>\n      <th></th>\n    </tr>\n  </thead>\n  <tbody>\n    <tr>\n      <th>1101</th>\n      <td>S_1</td>\n      <td>C_1</td>\n      <td>M</td>\n      <td>street_1</td>\n      <td>173</td>\n      <td>63</td>\n      <td>34.0</td>\n      <td>A+</td>\n    </tr>\n    <tr>\n      <th>1102</th>\n      <td>S_1</td>\n      <td>C_1</td>\n      <td>F</td>\n      <td>street_2</td>\n      <td>192</td>\n      <td>73</td>\n      <td>32.5</td>\n      <td>B+</td>\n    </tr>\n    <tr>\n      <th>1103</th>\n      <td>S_1</td>\n      <td>C_1</td>\n      <td>M</td>\n      <td>street_2</td>\n      <td>186</td>\n      <td>82</td>\n      <td>87.2</td>\n      <td>B+</td>\n    </tr>\n    <tr>\n      <th>1104</th>\n      <td>S_1</td>\n      <td>C_1</td>\n      <td>F</td>\n      <td>street_2</td>\n      <td>167</td>\n      <td>81</td>\n      <td>80.4</td>\n      <td>B-</td>\n    </tr>\n    <tr>\n      <th>1105</th>\n      <td>S_1</td>\n      <td>C_1</td>\n      <td>F</td>\n      <td>street_4</td>\n      <td>159</td>\n      <td>64</td>\n      <td>84.8</td>\n      <td>B+</td>\n    </tr>\n  </tbody>\n</table>\n</div>"
     },
     "metadata": {},
     "output_type": "display_data"
    },
    {
     "name": "stdout",
     "output_type": "stream",
     "text": [
      "S_2\n"
     ]
    },
    {
     "data": {
      "text/plain": "     School Class Gender   Address  Height  Weight  Math Physics\nID                                                              \n2101    S_2   C_1      M  street_7     174      84  83.3       C\n2102    S_2   C_1      F  street_6     161      61  50.6      B+\n2103    S_2   C_1      M  street_4     157      61  52.5      B-\n2104    S_2   C_1      F  street_5     159      97  72.2      B+\n2105    S_2   C_1      M  street_4     170      81  34.2       A",
      "text/html": "<div>\n<style scoped>\n    .dataframe tbody tr th:only-of-type {\n        vertical-align: middle;\n    }\n\n    .dataframe tbody tr th {\n        vertical-align: top;\n    }\n\n    .dataframe thead th {\n        text-align: right;\n    }\n</style>\n<table border=\"1\" class=\"dataframe\">\n  <thead>\n    <tr style=\"text-align: right;\">\n      <th></th>\n      <th>School</th>\n      <th>Class</th>\n      <th>Gender</th>\n      <th>Address</th>\n      <th>Height</th>\n      <th>Weight</th>\n      <th>Math</th>\n      <th>Physics</th>\n    </tr>\n    <tr>\n      <th>ID</th>\n      <th></th>\n      <th></th>\n      <th></th>\n      <th></th>\n      <th></th>\n      <th></th>\n      <th></th>\n      <th></th>\n    </tr>\n  </thead>\n  <tbody>\n    <tr>\n      <th>2101</th>\n      <td>S_2</td>\n      <td>C_1</td>\n      <td>M</td>\n      <td>street_7</td>\n      <td>174</td>\n      <td>84</td>\n      <td>83.3</td>\n      <td>C</td>\n    </tr>\n    <tr>\n      <th>2102</th>\n      <td>S_2</td>\n      <td>C_1</td>\n      <td>F</td>\n      <td>street_6</td>\n      <td>161</td>\n      <td>61</td>\n      <td>50.6</td>\n      <td>B+</td>\n    </tr>\n    <tr>\n      <th>2103</th>\n      <td>S_2</td>\n      <td>C_1</td>\n      <td>M</td>\n      <td>street_4</td>\n      <td>157</td>\n      <td>61</td>\n      <td>52.5</td>\n      <td>B-</td>\n    </tr>\n    <tr>\n      <th>2104</th>\n      <td>S_2</td>\n      <td>C_1</td>\n      <td>F</td>\n      <td>street_5</td>\n      <td>159</td>\n      <td>97</td>\n      <td>72.2</td>\n      <td>B+</td>\n    </tr>\n    <tr>\n      <th>2105</th>\n      <td>S_2</td>\n      <td>C_1</td>\n      <td>M</td>\n      <td>street_4</td>\n      <td>170</td>\n      <td>81</td>\n      <td>34.2</td>\n      <td>A</td>\n    </tr>\n  </tbody>\n</table>\n</div>"
     },
     "metadata": {},
     "output_type": "display_data"
    }
   ],
   "source": [
    "for name,group in grouped_single:\n",
    "    print(name)\n",
    "    display(group.head())"
   ],
   "metadata": {
    "collapsed": false,
    "pycharm": {
     "name": "#%%\n"
    }
   }
  },
  {
   "cell_type": "code",
   "execution_count": null,
   "outputs": [],
   "source": [
    "df.set_index(['Gender','School']).groupby()"
   ],
   "metadata": {
    "collapsed": false,
    "pycharm": {
     "name": "#%%\n"
    }
   }
  },
  {
   "cell_type": "code",
   "execution_count": null,
   "outputs": [],
   "source": [],
   "metadata": {
    "collapsed": false,
    "pycharm": {
     "name": "#%%\n"
    }
   }
  },
  {
   "cell_type": "code",
   "execution_count": null,
   "outputs": [],
   "source": [],
   "metadata": {
    "collapsed": false,
    "pycharm": {
     "name": "#%%\n"
    }
   }
  },
  {
   "cell_type": "code",
   "execution_count": null,
   "outputs": [],
   "source": [],
   "metadata": {
    "collapsed": false,
    "pycharm": {
     "name": "#%%\n"
    }
   }
  },
  {
   "cell_type": "code",
   "execution_count": null,
   "outputs": [],
   "source": [],
   "metadata": {
    "collapsed": false,
    "pycharm": {
     "name": "#%%\n"
    }
   }
  },
  {
   "cell_type": "code",
   "execution_count": null,
   "outputs": [],
   "source": [],
   "metadata": {
    "collapsed": false,
    "pycharm": {
     "name": "#%%\n"
    }
   }
  },
  {
   "cell_type": "code",
   "execution_count": null,
   "outputs": [],
   "source": [],
   "metadata": {
    "collapsed": false,
    "pycharm": {
     "name": "#%%\n"
    }
   }
  },
  {
   "cell_type": "code",
   "execution_count": null,
   "outputs": [],
   "source": [],
   "metadata": {
    "collapsed": false,
    "pycharm": {
     "name": "#%%\n"
    }
   }
  },
  {
   "cell_type": "code",
   "execution_count": null,
   "outputs": [],
   "source": [],
   "metadata": {
    "collapsed": false,
    "pycharm": {
     "name": "#%%\n"
    }
   }
  }
 ],
 "metadata": {
  "kernelspec": {
   "display_name": "Python 3",
   "language": "python",
   "name": "python3"
  },
  "language_info": {
   "codemirror_mode": {
    "name": "ipython",
    "version": 2
   },
   "file_extension": ".py",
   "mimetype": "text/x-python",
   "name": "python",
   "nbconvert_exporter": "python",
   "pygments_lexer": "ipython2",
   "version": "2.7.6"
  }
 },
 "nbformat": 4,
 "nbformat_minor": 0
}