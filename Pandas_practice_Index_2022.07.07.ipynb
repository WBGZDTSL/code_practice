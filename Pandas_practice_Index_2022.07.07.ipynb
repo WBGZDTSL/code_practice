{
 "cells": [
  {
   "cell_type": "code",
   "execution_count": 1,
   "metadata": {
    "collapsed": true,
    "pycharm": {
     "name": "#%%\n"
    }
   },
   "outputs": [],
   "source": [
    "import pandas as pd\n",
    "import numpy as np"
   ]
  },
  {
   "cell_type": "code",
   "execution_count": 55,
   "outputs": [
    {
     "data": {
      "text/plain": "     School Class Gender   Address  Height  Weight  Math Physics\nID                                                              \n1101    S_1   C_1      M  street_1     173      63  34.0      A+\n1102    S_1   C_1      F  street_2     192      73  32.5      B+\n1103    S_1   C_1      M  street_2     186      82  87.2      B+\n1104    S_1   C_1      F  street_2     167      81  80.4      B-\n1105    S_1   C_1      F  street_4     159      64  84.8      B+\n1201    S_1   C_2      M  street_5     188      68  97.0      A-\n1202    S_1   C_2      F  street_4     176      94  63.5      B-\n1203    S_1   C_2      M  street_6     160      53  58.8      A+\n1204    S_1   C_2      F  street_5     162      63  33.8       B\n1205    S_1   C_2      F  street_6     167      63  68.4      B-",
      "text/html": "<div>\n<style scoped>\n    .dataframe tbody tr th:only-of-type {\n        vertical-align: middle;\n    }\n\n    .dataframe tbody tr th {\n        vertical-align: top;\n    }\n\n    .dataframe thead th {\n        text-align: right;\n    }\n</style>\n<table border=\"1\" class=\"dataframe\">\n  <thead>\n    <tr style=\"text-align: right;\">\n      <th></th>\n      <th>School</th>\n      <th>Class</th>\n      <th>Gender</th>\n      <th>Address</th>\n      <th>Height</th>\n      <th>Weight</th>\n      <th>Math</th>\n      <th>Physics</th>\n    </tr>\n    <tr>\n      <th>ID</th>\n      <th></th>\n      <th></th>\n      <th></th>\n      <th></th>\n      <th></th>\n      <th></th>\n      <th></th>\n      <th></th>\n    </tr>\n  </thead>\n  <tbody>\n    <tr>\n      <th>1101</th>\n      <td>S_1</td>\n      <td>C_1</td>\n      <td>M</td>\n      <td>street_1</td>\n      <td>173</td>\n      <td>63</td>\n      <td>34.0</td>\n      <td>A+</td>\n    </tr>\n    <tr>\n      <th>1102</th>\n      <td>S_1</td>\n      <td>C_1</td>\n      <td>F</td>\n      <td>street_2</td>\n      <td>192</td>\n      <td>73</td>\n      <td>32.5</td>\n      <td>B+</td>\n    </tr>\n    <tr>\n      <th>1103</th>\n      <td>S_1</td>\n      <td>C_1</td>\n      <td>M</td>\n      <td>street_2</td>\n      <td>186</td>\n      <td>82</td>\n      <td>87.2</td>\n      <td>B+</td>\n    </tr>\n    <tr>\n      <th>1104</th>\n      <td>S_1</td>\n      <td>C_1</td>\n      <td>F</td>\n      <td>street_2</td>\n      <td>167</td>\n      <td>81</td>\n      <td>80.4</td>\n      <td>B-</td>\n    </tr>\n    <tr>\n      <th>1105</th>\n      <td>S_1</td>\n      <td>C_1</td>\n      <td>F</td>\n      <td>street_4</td>\n      <td>159</td>\n      <td>64</td>\n      <td>84.8</td>\n      <td>B+</td>\n    </tr>\n    <tr>\n      <th>1201</th>\n      <td>S_1</td>\n      <td>C_2</td>\n      <td>M</td>\n      <td>street_5</td>\n      <td>188</td>\n      <td>68</td>\n      <td>97.0</td>\n      <td>A-</td>\n    </tr>\n    <tr>\n      <th>1202</th>\n      <td>S_1</td>\n      <td>C_2</td>\n      <td>F</td>\n      <td>street_4</td>\n      <td>176</td>\n      <td>94</td>\n      <td>63.5</td>\n      <td>B-</td>\n    </tr>\n    <tr>\n      <th>1203</th>\n      <td>S_1</td>\n      <td>C_2</td>\n      <td>M</td>\n      <td>street_6</td>\n      <td>160</td>\n      <td>53</td>\n      <td>58.8</td>\n      <td>A+</td>\n    </tr>\n    <tr>\n      <th>1204</th>\n      <td>S_1</td>\n      <td>C_2</td>\n      <td>F</td>\n      <td>street_5</td>\n      <td>162</td>\n      <td>63</td>\n      <td>33.8</td>\n      <td>B</td>\n    </tr>\n    <tr>\n      <th>1205</th>\n      <td>S_1</td>\n      <td>C_2</td>\n      <td>F</td>\n      <td>street_6</td>\n      <td>167</td>\n      <td>63</td>\n      <td>68.4</td>\n      <td>B-</td>\n    </tr>\n  </tbody>\n</table>\n</div>"
     },
     "execution_count": 55,
     "metadata": {},
     "output_type": "execute_result"
    }
   ],
   "source": [
    "df =pd.read_csv(r'C:/Users/jweiban/PycharmProjects/code_practice/Pandas_prac/data/table.csv',index_col=\"ID\")\n",
    "df.head(10)\n",
    "# df.shape"
   ],
   "metadata": {
    "collapsed": false,
    "pycharm": {
     "name": "#%%\n"
    }
   }
  },
  {
   "cell_type": "code",
   "execution_count": 5,
   "outputs": [
    {
     "data": {
      "text/plain": "School          S_1\nClass           C_1\nGender            M\nAddress    street_2\nHeight          186\nWeight           82\nMath           87.2\nPhysics          B+\nName: 1103, dtype: object"
     },
     "execution_count": 5,
     "metadata": {},
     "output_type": "execute_result"
    }
   ],
   "source": [
    "#loc indicate label index\n",
    "df.loc[1103]# single row"
   ],
   "metadata": {
    "collapsed": false,
    "pycharm": {
     "name": "#%%\n"
    }
   }
  },
  {
   "cell_type": "code",
   "execution_count": 6,
   "outputs": [
    {
     "data": {
      "text/plain": "       School Class Gender   Address  Height  Weight  Math Physics\nID                                                                \n1103.0    S_1   C_1      M  street_2     186      82  87.2      B+\n1104.0    S_1   C_1      F  street_2     167      81  80.4      B-",
      "text/html": "<div>\n<style scoped>\n    .dataframe tbody tr th:only-of-type {\n        vertical-align: middle;\n    }\n\n    .dataframe tbody tr th {\n        vertical-align: top;\n    }\n\n    .dataframe thead th {\n        text-align: right;\n    }\n</style>\n<table border=\"1\" class=\"dataframe\">\n  <thead>\n    <tr style=\"text-align: right;\">\n      <th></th>\n      <th>School</th>\n      <th>Class</th>\n      <th>Gender</th>\n      <th>Address</th>\n      <th>Height</th>\n      <th>Weight</th>\n      <th>Math</th>\n      <th>Physics</th>\n    </tr>\n    <tr>\n      <th>ID</th>\n      <th></th>\n      <th></th>\n      <th></th>\n      <th></th>\n      <th></th>\n      <th></th>\n      <th></th>\n      <th></th>\n    </tr>\n  </thead>\n  <tbody>\n    <tr>\n      <th>1103.0</th>\n      <td>S_1</td>\n      <td>C_1</td>\n      <td>M</td>\n      <td>street_2</td>\n      <td>186</td>\n      <td>82</td>\n      <td>87.2</td>\n      <td>B+</td>\n    </tr>\n    <tr>\n      <th>1104.0</th>\n      <td>S_1</td>\n      <td>C_1</td>\n      <td>F</td>\n      <td>street_2</td>\n      <td>167</td>\n      <td>81</td>\n      <td>80.4</td>\n      <td>B-</td>\n    </tr>\n  </tbody>\n</table>\n</div>"
     },
     "execution_count": 6,
     "metadata": {},
     "output_type": "execute_result"
    }
   ],
   "source": [
    "df.loc[[1103.,1104]]# multi rows"
   ],
   "metadata": {
    "collapsed": false,
    "pycharm": {
     "name": "#%%\n"
    }
   }
  },
  {
   "cell_type": "code",
   "execution_count": 7,
   "outputs": [
    {
     "data": {
      "text/plain": "     School Class Gender   Address  Height  Weight  Math Physics\nID                                                              \n1304    S_1   C_3      M  street_2     195      70  85.2       A\n1305    S_1   C_3      F  street_5     187      69  61.7      B-\n2101    S_2   C_1      M  street_7     174      84  83.3       C\n2102    S_2   C_1      F  street_6     161      61  50.6      B+\n2103    S_2   C_1      M  street_4     157      61  52.5      B-",
      "text/html": "<div>\n<style scoped>\n    .dataframe tbody tr th:only-of-type {\n        vertical-align: middle;\n    }\n\n    .dataframe tbody tr th {\n        vertical-align: top;\n    }\n\n    .dataframe thead th {\n        text-align: right;\n    }\n</style>\n<table border=\"1\" class=\"dataframe\">\n  <thead>\n    <tr style=\"text-align: right;\">\n      <th></th>\n      <th>School</th>\n      <th>Class</th>\n      <th>Gender</th>\n      <th>Address</th>\n      <th>Height</th>\n      <th>Weight</th>\n      <th>Math</th>\n      <th>Physics</th>\n    </tr>\n    <tr>\n      <th>ID</th>\n      <th></th>\n      <th></th>\n      <th></th>\n      <th></th>\n      <th></th>\n      <th></th>\n      <th></th>\n      <th></th>\n    </tr>\n  </thead>\n  <tbody>\n    <tr>\n      <th>1304</th>\n      <td>S_1</td>\n      <td>C_3</td>\n      <td>M</td>\n      <td>street_2</td>\n      <td>195</td>\n      <td>70</td>\n      <td>85.2</td>\n      <td>A</td>\n    </tr>\n    <tr>\n      <th>1305</th>\n      <td>S_1</td>\n      <td>C_3</td>\n      <td>F</td>\n      <td>street_5</td>\n      <td>187</td>\n      <td>69</td>\n      <td>61.7</td>\n      <td>B-</td>\n    </tr>\n    <tr>\n      <th>2101</th>\n      <td>S_2</td>\n      <td>C_1</td>\n      <td>M</td>\n      <td>street_7</td>\n      <td>174</td>\n      <td>84</td>\n      <td>83.3</td>\n      <td>C</td>\n    </tr>\n    <tr>\n      <th>2102</th>\n      <td>S_2</td>\n      <td>C_1</td>\n      <td>F</td>\n      <td>street_6</td>\n      <td>161</td>\n      <td>61</td>\n      <td>50.6</td>\n      <td>B+</td>\n    </tr>\n    <tr>\n      <th>2103</th>\n      <td>S_2</td>\n      <td>C_1</td>\n      <td>M</td>\n      <td>street_4</td>\n      <td>157</td>\n      <td>61</td>\n      <td>52.5</td>\n      <td>B-</td>\n    </tr>\n  </tbody>\n</table>\n</div>"
     },
     "execution_count": 7,
     "metadata": {},
     "output_type": "execute_result"
    }
   ],
   "source": [
    "df.loc[1304:2103].head()"
   ],
   "metadata": {
    "collapsed": false,
    "pycharm": {
     "name": "#%%\n"
    }
   }
  },
  {
   "cell_type": "code",
   "execution_count": 9,
   "outputs": [
    {
     "data": {
      "text/plain": "     School Class Gender   Address  Height  Weight  Math Physics\nID                                                              \n2402    S_2   C_4      M  street_7     166      82  48.7       B\n2401    S_2   C_4      F  street_2     192      62  45.3       A\n2305    S_2   C_3      M  street_4     187      73  48.9       B\n2304    S_2   C_3      F  street_6     164      81  95.5      A-\n2303    S_2   C_3      F  street_7     190      99  65.9       C",
      "text/html": "<div>\n<style scoped>\n    .dataframe tbody tr th:only-of-type {\n        vertical-align: middle;\n    }\n\n    .dataframe tbody tr th {\n        vertical-align: top;\n    }\n\n    .dataframe thead th {\n        text-align: right;\n    }\n</style>\n<table border=\"1\" class=\"dataframe\">\n  <thead>\n    <tr style=\"text-align: right;\">\n      <th></th>\n      <th>School</th>\n      <th>Class</th>\n      <th>Gender</th>\n      <th>Address</th>\n      <th>Height</th>\n      <th>Weight</th>\n      <th>Math</th>\n      <th>Physics</th>\n    </tr>\n    <tr>\n      <th>ID</th>\n      <th></th>\n      <th></th>\n      <th></th>\n      <th></th>\n      <th></th>\n      <th></th>\n      <th></th>\n      <th></th>\n    </tr>\n  </thead>\n  <tbody>\n    <tr>\n      <th>2402</th>\n      <td>S_2</td>\n      <td>C_4</td>\n      <td>M</td>\n      <td>street_7</td>\n      <td>166</td>\n      <td>82</td>\n      <td>48.7</td>\n      <td>B</td>\n    </tr>\n    <tr>\n      <th>2401</th>\n      <td>S_2</td>\n      <td>C_4</td>\n      <td>F</td>\n      <td>street_2</td>\n      <td>192</td>\n      <td>62</td>\n      <td>45.3</td>\n      <td>A</td>\n    </tr>\n    <tr>\n      <th>2305</th>\n      <td>S_2</td>\n      <td>C_3</td>\n      <td>M</td>\n      <td>street_4</td>\n      <td>187</td>\n      <td>73</td>\n      <td>48.9</td>\n      <td>B</td>\n    </tr>\n    <tr>\n      <th>2304</th>\n      <td>S_2</td>\n      <td>C_3</td>\n      <td>F</td>\n      <td>street_6</td>\n      <td>164</td>\n      <td>81</td>\n      <td>95.5</td>\n      <td>A-</td>\n    </tr>\n    <tr>\n      <th>2303</th>\n      <td>S_2</td>\n      <td>C_3</td>\n      <td>F</td>\n      <td>street_7</td>\n      <td>190</td>\n      <td>99</td>\n      <td>65.9</td>\n      <td>C</td>\n    </tr>\n  </tbody>\n</table>\n</div>"
     },
     "execution_count": 9,
     "metadata": {},
     "output_type": "execute_result"
    }
   ],
   "source": [
    "df.loc[2402::-1].head()"
   ],
   "metadata": {
    "collapsed": false,
    "pycharm": {
     "name": "#%%\n"
    }
   }
  },
  {
   "cell_type": "code",
   "execution_count": 12,
   "outputs": [
    {
     "data": {
      "text/plain": "ID\n1101    S_1\n1102    S_1\n1103    S_1\n1104    S_1\n1105    S_1\n1201    S_1\n1202    S_1\n1203    S_1\n1204    S_1\n1205    S_1\n1301    S_1\n1302    S_1\n1303    S_1\n1304    S_1\n1305    S_1\n2101    S_2\n2102    S_2\n2103    S_2\n2104    S_2\n2105    S_2\n2201    S_2\n2202    S_2\n2203    S_2\n2204    S_2\n2205    S_2\n2301    S_2\n2302    S_2\n2303    S_2\n2304    S_2\n2305    S_2\n2401    S_2\n2402    S_2\n2403    S_2\n2404    S_2\n2405    S_2\nName: School, dtype: object"
     },
     "execution_count": 12,
     "metadata": {},
     "output_type": "execute_result"
    }
   ],
   "source": [
    "df.loc[:,'School']#sigle columns"
   ],
   "metadata": {
    "collapsed": false,
    "pycharm": {
     "name": "#%%\n"
    }
   }
  },
  {
   "cell_type": "code",
   "execution_count": 14,
   "outputs": [
    {
     "data": {
      "text/plain": "     School Class\nID               \n1101    S_1   C_1\n1102    S_1   C_1\n1103    S_1   C_1\n1104    S_1   C_1\n1105    S_1   C_1",
      "text/html": "<div>\n<style scoped>\n    .dataframe tbody tr th:only-of-type {\n        vertical-align: middle;\n    }\n\n    .dataframe tbody tr th {\n        vertical-align: top;\n    }\n\n    .dataframe thead th {\n        text-align: right;\n    }\n</style>\n<table border=\"1\" class=\"dataframe\">\n  <thead>\n    <tr style=\"text-align: right;\">\n      <th></th>\n      <th>School</th>\n      <th>Class</th>\n    </tr>\n    <tr>\n      <th>ID</th>\n      <th></th>\n      <th></th>\n    </tr>\n  </thead>\n  <tbody>\n    <tr>\n      <th>1101</th>\n      <td>S_1</td>\n      <td>C_1</td>\n    </tr>\n    <tr>\n      <th>1102</th>\n      <td>S_1</td>\n      <td>C_1</td>\n    </tr>\n    <tr>\n      <th>1103</th>\n      <td>S_1</td>\n      <td>C_1</td>\n    </tr>\n    <tr>\n      <th>1104</th>\n      <td>S_1</td>\n      <td>C_1</td>\n    </tr>\n    <tr>\n      <th>1105</th>\n      <td>S_1</td>\n      <td>C_1</td>\n    </tr>\n  </tbody>\n</table>\n</div>"
     },
     "execution_count": 14,
     "metadata": {},
     "output_type": "execute_result"
    }
   ],
   "source": [
    "df.loc[:,['School','Class']].head()"
   ],
   "metadata": {
    "collapsed": false,
    "pycharm": {
     "name": "#%%\n"
    }
   }
  },
  {
   "cell_type": "code",
   "execution_count": 16,
   "outputs": [
    {
     "data": {
      "text/plain": "     School Class Gender   Address  Height\nID                                        \n1101    S_1   C_1      M  street_1     173\n1102    S_1   C_1      F  street_2     192\n1103    S_1   C_1      M  street_2     186\n1104    S_1   C_1      F  street_2     167\n1105    S_1   C_1      F  street_4     159",
      "text/html": "<div>\n<style scoped>\n    .dataframe tbody tr th:only-of-type {\n        vertical-align: middle;\n    }\n\n    .dataframe tbody tr th {\n        vertical-align: top;\n    }\n\n    .dataframe thead th {\n        text-align: right;\n    }\n</style>\n<table border=\"1\" class=\"dataframe\">\n  <thead>\n    <tr style=\"text-align: right;\">\n      <th></th>\n      <th>School</th>\n      <th>Class</th>\n      <th>Gender</th>\n      <th>Address</th>\n      <th>Height</th>\n    </tr>\n    <tr>\n      <th>ID</th>\n      <th></th>\n      <th></th>\n      <th></th>\n      <th></th>\n      <th></th>\n    </tr>\n  </thead>\n  <tbody>\n    <tr>\n      <th>1101</th>\n      <td>S_1</td>\n      <td>C_1</td>\n      <td>M</td>\n      <td>street_1</td>\n      <td>173</td>\n    </tr>\n    <tr>\n      <th>1102</th>\n      <td>S_1</td>\n      <td>C_1</td>\n      <td>F</td>\n      <td>street_2</td>\n      <td>192</td>\n    </tr>\n    <tr>\n      <th>1103</th>\n      <td>S_1</td>\n      <td>C_1</td>\n      <td>M</td>\n      <td>street_2</td>\n      <td>186</td>\n    </tr>\n    <tr>\n      <th>1104</th>\n      <td>S_1</td>\n      <td>C_1</td>\n      <td>F</td>\n      <td>street_2</td>\n      <td>167</td>\n    </tr>\n    <tr>\n      <th>1105</th>\n      <td>S_1</td>\n      <td>C_1</td>\n      <td>F</td>\n      <td>street_4</td>\n      <td>159</td>\n    </tr>\n  </tbody>\n</table>\n</div>"
     },
     "execution_count": 16,
     "metadata": {},
     "output_type": "execute_result"
    }
   ],
   "source": [
    "df.loc[:,'School':\"Height\"].head()"
   ],
   "metadata": {
    "collapsed": false,
    "pycharm": {
     "name": "#%%\n"
    }
   }
  },
  {
   "cell_type": "markdown",
   "source": [
    "union index [a:b:c] # start end step"
   ],
   "metadata": {
    "collapsed": false,
    "pycharm": {
     "name": "#%% md\n"
    }
   }
  },
  {
   "cell_type": "code",
   "execution_count": 58,
   "outputs": [
    {
     "data": {
      "text/plain": "     School Class Gender   Address  Height  Weight  Math Physics\nID                                                              \n1304    S_1   C_3      M  street_2     195      70  85.2       A",
      "text/html": "<div>\n<style scoped>\n    .dataframe tbody tr th:only-of-type {\n        vertical-align: middle;\n    }\n\n    .dataframe tbody tr th {\n        vertical-align: top;\n    }\n\n    .dataframe thead th {\n        text-align: right;\n    }\n</style>\n<table border=\"1\" class=\"dataframe\">\n  <thead>\n    <tr style=\"text-align: right;\">\n      <th></th>\n      <th>School</th>\n      <th>Class</th>\n      <th>Gender</th>\n      <th>Address</th>\n      <th>Height</th>\n      <th>Weight</th>\n      <th>Math</th>\n      <th>Physics</th>\n    </tr>\n    <tr>\n      <th>ID</th>\n      <th></th>\n      <th></th>\n      <th></th>\n      <th></th>\n      <th></th>\n      <th></th>\n      <th></th>\n      <th></th>\n    </tr>\n  </thead>\n  <tbody>\n    <tr>\n      <th>1304</th>\n      <td>S_1</td>\n      <td>C_3</td>\n      <td>M</td>\n      <td>street_2</td>\n      <td>195</td>\n      <td>70</td>\n      <td>85.2</td>\n      <td>A</td>\n    </tr>\n  </tbody>\n</table>\n</div>"
     },
     "execution_count": 58,
     "metadata": {},
     "output_type": "execute_result"
    }
   ],
   "source": [
    "df.loc[1304:2103:9]"
   ],
   "metadata": {
    "collapsed": false,
    "pycharm": {
     "name": "#%%\n"
    }
   }
  },
  {
   "cell_type": "code",
   "execution_count": 29,
   "outputs": [
    {
     "data": {
      "text/plain": "      Height  Weight  Math\nID                        \n1102     192      73  32.5\n1105     159      64  84.8\n1203     160      53  58.8\n1301     161      68  31.5\n1304     195      70  85.2",
      "text/html": "<div>\n<style scoped>\n    .dataframe tbody tr th:only-of-type {\n        vertical-align: middle;\n    }\n\n    .dataframe tbody tr th {\n        vertical-align: top;\n    }\n\n    .dataframe thead th {\n        text-align: right;\n    }\n</style>\n<table border=\"1\" class=\"dataframe\">\n  <thead>\n    <tr style=\"text-align: right;\">\n      <th></th>\n      <th>Height</th>\n      <th>Weight</th>\n      <th>Math</th>\n    </tr>\n    <tr>\n      <th>ID</th>\n      <th></th>\n      <th></th>\n      <th></th>\n    </tr>\n  </thead>\n  <tbody>\n    <tr>\n      <th>1102</th>\n      <td>192</td>\n      <td>73</td>\n      <td>32.5</td>\n    </tr>\n    <tr>\n      <th>1105</th>\n      <td>159</td>\n      <td>64</td>\n      <td>84.8</td>\n    </tr>\n    <tr>\n      <th>1203</th>\n      <td>160</td>\n      <td>53</td>\n      <td>58.8</td>\n    </tr>\n    <tr>\n      <th>1301</th>\n      <td>161</td>\n      <td>68</td>\n      <td>31.5</td>\n    </tr>\n    <tr>\n      <th>1304</th>\n      <td>195</td>\n      <td>70</td>\n      <td>85.2</td>\n    </tr>\n  </tbody>\n</table>\n</div>"
     },
     "execution_count": 29,
     "metadata": {},
     "output_type": "execute_result"
    }
   ],
   "source": [
    "df.loc[1102:2401:3,'Height':'Math'].head()"
   ],
   "metadata": {
    "collapsed": false,
    "pycharm": {
     "name": "#%%\n"
    }
   }
  },
  {
   "cell_type": "code",
   "execution_count": 31,
   "outputs": [
    {
     "data": {
      "text/plain": "     School Class Gender   Address  Height  Weight  Math Physics\nID                                                              \n1101    S_1   C_1      M  street_1     173      63  34.0      A+\n1103    S_1   C_1      M  street_2     186      82  87.2      B+\n1201    S_1   C_2      M  street_5     188      68  97.0      A-\n1203    S_1   C_2      M  street_6     160      53  58.8      A+\n1301    S_1   C_3      M  street_4     161      68  31.5      B+",
      "text/html": "<div>\n<style scoped>\n    .dataframe tbody tr th:only-of-type {\n        vertical-align: middle;\n    }\n\n    .dataframe tbody tr th {\n        vertical-align: top;\n    }\n\n    .dataframe thead th {\n        text-align: right;\n    }\n</style>\n<table border=\"1\" class=\"dataframe\">\n  <thead>\n    <tr style=\"text-align: right;\">\n      <th></th>\n      <th>School</th>\n      <th>Class</th>\n      <th>Gender</th>\n      <th>Address</th>\n      <th>Height</th>\n      <th>Weight</th>\n      <th>Math</th>\n      <th>Physics</th>\n    </tr>\n    <tr>\n      <th>ID</th>\n      <th></th>\n      <th></th>\n      <th></th>\n      <th></th>\n      <th></th>\n      <th></th>\n      <th></th>\n      <th></th>\n    </tr>\n  </thead>\n  <tbody>\n    <tr>\n      <th>1101</th>\n      <td>S_1</td>\n      <td>C_1</td>\n      <td>M</td>\n      <td>street_1</td>\n      <td>173</td>\n      <td>63</td>\n      <td>34.0</td>\n      <td>A+</td>\n    </tr>\n    <tr>\n      <th>1103</th>\n      <td>S_1</td>\n      <td>C_1</td>\n      <td>M</td>\n      <td>street_2</td>\n      <td>186</td>\n      <td>82</td>\n      <td>87.2</td>\n      <td>B+</td>\n    </tr>\n    <tr>\n      <th>1201</th>\n      <td>S_1</td>\n      <td>C_2</td>\n      <td>M</td>\n      <td>street_5</td>\n      <td>188</td>\n      <td>68</td>\n      <td>97.0</td>\n      <td>A-</td>\n    </tr>\n    <tr>\n      <th>1203</th>\n      <td>S_1</td>\n      <td>C_2</td>\n      <td>M</td>\n      <td>street_6</td>\n      <td>160</td>\n      <td>53</td>\n      <td>58.8</td>\n      <td>A+</td>\n    </tr>\n    <tr>\n      <th>1301</th>\n      <td>S_1</td>\n      <td>C_3</td>\n      <td>M</td>\n      <td>street_4</td>\n      <td>161</td>\n      <td>68</td>\n      <td>31.5</td>\n      <td>B+</td>\n    </tr>\n  </tbody>\n</table>\n</div>"
     },
     "execution_count": 31,
     "metadata": {},
     "output_type": "execute_result"
    }
   ],
   "source": [
    "df.loc[lambda x: x['Gender'] == 'M' ].head()"
   ],
   "metadata": {
    "collapsed": false,
    "pycharm": {
     "name": "#%%\n"
    }
   }
  },
  {
   "cell_type": "code",
   "execution_count": 34,
   "outputs": [],
   "source": [
    "def f(x):\n",
    "    return [1101,1103]"
   ],
   "metadata": {
    "collapsed": false,
    "pycharm": {
     "name": "#%%\n"
    }
   }
  },
  {
   "cell_type": "code",
   "execution_count": 36,
   "outputs": [
    {
     "data": {
      "text/plain": "     School Class Gender   Address  Height  Weight  Math Physics\nID                                                              \n1101    S_1   C_1      M  street_1     173      63  34.0      A+\n1103    S_1   C_1      M  street_2     186      82  87.2      B+",
      "text/html": "<div>\n<style scoped>\n    .dataframe tbody tr th:only-of-type {\n        vertical-align: middle;\n    }\n\n    .dataframe tbody tr th {\n        vertical-align: top;\n    }\n\n    .dataframe thead th {\n        text-align: right;\n    }\n</style>\n<table border=\"1\" class=\"dataframe\">\n  <thead>\n    <tr style=\"text-align: right;\">\n      <th></th>\n      <th>School</th>\n      <th>Class</th>\n      <th>Gender</th>\n      <th>Address</th>\n      <th>Height</th>\n      <th>Weight</th>\n      <th>Math</th>\n      <th>Physics</th>\n    </tr>\n    <tr>\n      <th>ID</th>\n      <th></th>\n      <th></th>\n      <th></th>\n      <th></th>\n      <th></th>\n      <th></th>\n      <th></th>\n      <th></th>\n    </tr>\n  </thead>\n  <tbody>\n    <tr>\n      <th>1101</th>\n      <td>S_1</td>\n      <td>C_1</td>\n      <td>M</td>\n      <td>street_1</td>\n      <td>173</td>\n      <td>63</td>\n      <td>34.0</td>\n      <td>A+</td>\n    </tr>\n    <tr>\n      <th>1103</th>\n      <td>S_1</td>\n      <td>C_1</td>\n      <td>M</td>\n      <td>street_2</td>\n      <td>186</td>\n      <td>82</td>\n      <td>87.2</td>\n      <td>B+</td>\n    </tr>\n  </tbody>\n</table>\n</div>"
     },
     "execution_count": 36,
     "metadata": {},
     "output_type": "execute_result"
    }
   ],
   "source": [
    "df.loc[f]"
   ],
   "metadata": {
    "collapsed": false,
    "pycharm": {
     "name": "#%%\n"
    }
   }
  },
  {
   "cell_type": "markdown",
   "source": [
    "Bull index"
   ],
   "metadata": {
    "collapsed": false,
    "pycharm": {
     "name": "#%% md\n"
    }
   }
  },
  {
   "cell_type": "code",
   "execution_count": 38,
   "outputs": [
    {
     "data": {
      "text/plain": "     School Class Gender   Address  Height  Weight  Math Physics\nID                                                              \n1105    S_1   C_1      F  street_4     159      64  84.8      B+\n1202    S_1   C_2      F  street_4     176      94  63.5      B-\n1301    S_1   C_3      M  street_4     161      68  31.5      B+\n1303    S_1   C_3      M  street_7     188      82  49.7       B\n2101    S_2   C_1      M  street_7     174      84  83.3       C",
      "text/html": "<div>\n<style scoped>\n    .dataframe tbody tr th:only-of-type {\n        vertical-align: middle;\n    }\n\n    .dataframe tbody tr th {\n        vertical-align: top;\n    }\n\n    .dataframe thead th {\n        text-align: right;\n    }\n</style>\n<table border=\"1\" class=\"dataframe\">\n  <thead>\n    <tr style=\"text-align: right;\">\n      <th></th>\n      <th>School</th>\n      <th>Class</th>\n      <th>Gender</th>\n      <th>Address</th>\n      <th>Height</th>\n      <th>Weight</th>\n      <th>Math</th>\n      <th>Physics</th>\n    </tr>\n    <tr>\n      <th>ID</th>\n      <th></th>\n      <th></th>\n      <th></th>\n      <th></th>\n      <th></th>\n      <th></th>\n      <th></th>\n      <th></th>\n    </tr>\n  </thead>\n  <tbody>\n    <tr>\n      <th>1105</th>\n      <td>S_1</td>\n      <td>C_1</td>\n      <td>F</td>\n      <td>street_4</td>\n      <td>159</td>\n      <td>64</td>\n      <td>84.8</td>\n      <td>B+</td>\n    </tr>\n    <tr>\n      <th>1202</th>\n      <td>S_1</td>\n      <td>C_2</td>\n      <td>F</td>\n      <td>street_4</td>\n      <td>176</td>\n      <td>94</td>\n      <td>63.5</td>\n      <td>B-</td>\n    </tr>\n    <tr>\n      <th>1301</th>\n      <td>S_1</td>\n      <td>C_3</td>\n      <td>M</td>\n      <td>street_4</td>\n      <td>161</td>\n      <td>68</td>\n      <td>31.5</td>\n      <td>B+</td>\n    </tr>\n    <tr>\n      <th>1303</th>\n      <td>S_1</td>\n      <td>C_3</td>\n      <td>M</td>\n      <td>street_7</td>\n      <td>188</td>\n      <td>82</td>\n      <td>49.7</td>\n      <td>B</td>\n    </tr>\n    <tr>\n      <th>2101</th>\n      <td>S_2</td>\n      <td>C_1</td>\n      <td>M</td>\n      <td>street_7</td>\n      <td>174</td>\n      <td>84</td>\n      <td>83.3</td>\n      <td>C</td>\n    </tr>\n  </tbody>\n</table>\n</div>"
     },
     "execution_count": 38,
     "metadata": {},
     "output_type": "execute_result"
    }
   ],
   "source": [
    "df.loc[df['Address'].isin(['street_7','street_4'])].head()"
   ],
   "metadata": {
    "collapsed": false,
    "pycharm": {
     "name": "#%%\n"
    }
   }
  },
  {
   "cell_type": "code",
   "execution_count": 46,
   "outputs": [
    {
     "data": {
      "text/plain": "array(['street_1', 'street_2', 'street_2', 'street_2', 'street_4',\n       'street_5', 'street_4', 'street_6', 'street_5', 'street_6',\n       'street_4', 'street_1', 'street_7', 'street_2', 'street_5',\n       'street_7', 'street_6', 'street_4', 'street_5', 'street_4',\n       'street_5', 'street_7', 'street_4', 'street_1', 'street_7',\n       'street_4', 'street_5', 'street_7', 'street_6', 'street_4',\n       'street_2', 'street_7', 'street_6', 'street_2', 'street_6'],\n      dtype=object)"
     },
     "execution_count": 46,
     "metadata": {},
     "output_type": "execute_result"
    }
   ],
   "source": [
    "df['Address'].values"
   ],
   "metadata": {
    "collapsed": false,
    "pycharm": {
     "name": "#%%\n"
    }
   }
  },
  {
   "cell_type": "markdown",
   "source": [
    "iloc method"
   ],
   "metadata": {
    "collapsed": false,
    "pycharm": {
     "name": "#%% md\n"
    }
   }
  },
  {
   "cell_type": "code",
   "execution_count": 47,
   "outputs": [
    {
     "data": {
      "text/plain": "School          S_1\nClass           C_1\nGender            F\nAddress    street_2\nHeight          167\nWeight           81\nMath           80.4\nPhysics          B-\nName: 1104, dtype: object"
     },
     "execution_count": 47,
     "metadata": {},
     "output_type": "execute_result"
    }
   ],
   "source": [
    "df.iloc[3]"
   ],
   "metadata": {
    "collapsed": false,
    "pycharm": {
     "name": "#%%\n"
    }
   }
  },
  {
   "cell_type": "code",
   "execution_count": 48,
   "outputs": [
    {
     "data": {
      "text/plain": "     School Class Gender   Address  Height  Weight  Math Physics\nID                                                              \n1104    S_1   C_1      F  street_2     167      81  80.4      B-\n1105    S_1   C_1      F  street_4     159      64  84.8      B+",
      "text/html": "<div>\n<style scoped>\n    .dataframe tbody tr th:only-of-type {\n        vertical-align: middle;\n    }\n\n    .dataframe tbody tr th {\n        vertical-align: top;\n    }\n\n    .dataframe thead th {\n        text-align: right;\n    }\n</style>\n<table border=\"1\" class=\"dataframe\">\n  <thead>\n    <tr style=\"text-align: right;\">\n      <th></th>\n      <th>School</th>\n      <th>Class</th>\n      <th>Gender</th>\n      <th>Address</th>\n      <th>Height</th>\n      <th>Weight</th>\n      <th>Math</th>\n      <th>Physics</th>\n    </tr>\n    <tr>\n      <th>ID</th>\n      <th></th>\n      <th></th>\n      <th></th>\n      <th></th>\n      <th></th>\n      <th></th>\n      <th></th>\n      <th></th>\n    </tr>\n  </thead>\n  <tbody>\n    <tr>\n      <th>1104</th>\n      <td>S_1</td>\n      <td>C_1</td>\n      <td>F</td>\n      <td>street_2</td>\n      <td>167</td>\n      <td>81</td>\n      <td>80.4</td>\n      <td>B-</td>\n    </tr>\n    <tr>\n      <th>1105</th>\n      <td>S_1</td>\n      <td>C_1</td>\n      <td>F</td>\n      <td>street_4</td>\n      <td>159</td>\n      <td>64</td>\n      <td>84.8</td>\n      <td>B+</td>\n    </tr>\n  </tbody>\n</table>\n</div>"
     },
     "execution_count": 48,
     "metadata": {},
     "output_type": "execute_result"
    }
   ],
   "source": [
    "df.iloc[3:5]"
   ],
   "metadata": {
    "collapsed": false,
    "pycharm": {
     "name": "#%%\n"
    }
   }
  },
  {
   "cell_type": "code",
   "execution_count": 49,
   "outputs": [
    {
     "data": {
      "text/plain": "ID\n1101    M\n1102    F\n1103    M\n1104    F\n1105    F\n1201    M\n1202    F\n1203    M\n1204    F\n1205    F\n1301    M\n1302    F\n1303    M\n1304    M\n1305    F\n2101    M\n2102    F\n2103    M\n2104    F\n2105    M\n2201    M\n2202    F\n2203    M\n2204    M\n2205    F\n2301    F\n2302    M\n2303    F\n2304    F\n2305    M\n2401    F\n2402    M\n2403    F\n2404    F\n2405    F\nName: Gender, dtype: object"
     },
     "execution_count": 49,
     "metadata": {},
     "output_type": "execute_result"
    }
   ],
   "source": [
    "df.iloc[:,2]"
   ],
   "metadata": {
    "collapsed": false,
    "pycharm": {
     "name": "#%%\n"
    }
   }
  },
  {
   "cell_type": "code",
   "execution_count": 50,
   "outputs": [
    {
     "data": {
      "text/plain": "     School Class\nID               \n1101    S_1   C_1\n1102    S_1   C_1\n1103    S_1   C_1\n1104    S_1   C_1\n1105    S_1   C_1\n1201    S_1   C_2\n1202    S_1   C_2\n1203    S_1   C_2\n1204    S_1   C_2\n1205    S_1   C_2\n1301    S_1   C_3\n1302    S_1   C_3\n1303    S_1   C_3\n1304    S_1   C_3\n1305    S_1   C_3\n2101    S_2   C_1\n2102    S_2   C_1\n2103    S_2   C_1\n2104    S_2   C_1\n2105    S_2   C_1\n2201    S_2   C_2\n2202    S_2   C_2\n2203    S_2   C_2\n2204    S_2   C_2\n2205    S_2   C_2\n2301    S_2   C_3\n2302    S_2   C_3\n2303    S_2   C_3\n2304    S_2   C_3\n2305    S_2   C_3\n2401    S_2   C_4\n2402    S_2   C_4\n2403    S_2   C_4\n2404    S_2   C_4\n2405    S_2   C_4",
      "text/html": "<div>\n<style scoped>\n    .dataframe tbody tr th:only-of-type {\n        vertical-align: middle;\n    }\n\n    .dataframe tbody tr th {\n        vertical-align: top;\n    }\n\n    .dataframe thead th {\n        text-align: right;\n    }\n</style>\n<table border=\"1\" class=\"dataframe\">\n  <thead>\n    <tr style=\"text-align: right;\">\n      <th></th>\n      <th>School</th>\n      <th>Class</th>\n    </tr>\n    <tr>\n      <th>ID</th>\n      <th></th>\n      <th></th>\n    </tr>\n  </thead>\n  <tbody>\n    <tr>\n      <th>1101</th>\n      <td>S_1</td>\n      <td>C_1</td>\n    </tr>\n    <tr>\n      <th>1102</th>\n      <td>S_1</td>\n      <td>C_1</td>\n    </tr>\n    <tr>\n      <th>1103</th>\n      <td>S_1</td>\n      <td>C_1</td>\n    </tr>\n    <tr>\n      <th>1104</th>\n      <td>S_1</td>\n      <td>C_1</td>\n    </tr>\n    <tr>\n      <th>1105</th>\n      <td>S_1</td>\n      <td>C_1</td>\n    </tr>\n    <tr>\n      <th>1201</th>\n      <td>S_1</td>\n      <td>C_2</td>\n    </tr>\n    <tr>\n      <th>1202</th>\n      <td>S_1</td>\n      <td>C_2</td>\n    </tr>\n    <tr>\n      <th>1203</th>\n      <td>S_1</td>\n      <td>C_2</td>\n    </tr>\n    <tr>\n      <th>1204</th>\n      <td>S_1</td>\n      <td>C_2</td>\n    </tr>\n    <tr>\n      <th>1205</th>\n      <td>S_1</td>\n      <td>C_2</td>\n    </tr>\n    <tr>\n      <th>1301</th>\n      <td>S_1</td>\n      <td>C_3</td>\n    </tr>\n    <tr>\n      <th>1302</th>\n      <td>S_1</td>\n      <td>C_3</td>\n    </tr>\n    <tr>\n      <th>1303</th>\n      <td>S_1</td>\n      <td>C_3</td>\n    </tr>\n    <tr>\n      <th>1304</th>\n      <td>S_1</td>\n      <td>C_3</td>\n    </tr>\n    <tr>\n      <th>1305</th>\n      <td>S_1</td>\n      <td>C_3</td>\n    </tr>\n    <tr>\n      <th>2101</th>\n      <td>S_2</td>\n      <td>C_1</td>\n    </tr>\n    <tr>\n      <th>2102</th>\n      <td>S_2</td>\n      <td>C_1</td>\n    </tr>\n    <tr>\n      <th>2103</th>\n      <td>S_2</td>\n      <td>C_1</td>\n    </tr>\n    <tr>\n      <th>2104</th>\n      <td>S_2</td>\n      <td>C_1</td>\n    </tr>\n    <tr>\n      <th>2105</th>\n      <td>S_2</td>\n      <td>C_1</td>\n    </tr>\n    <tr>\n      <th>2201</th>\n      <td>S_2</td>\n      <td>C_2</td>\n    </tr>\n    <tr>\n      <th>2202</th>\n      <td>S_2</td>\n      <td>C_2</td>\n    </tr>\n    <tr>\n      <th>2203</th>\n      <td>S_2</td>\n      <td>C_2</td>\n    </tr>\n    <tr>\n      <th>2204</th>\n      <td>S_2</td>\n      <td>C_2</td>\n    </tr>\n    <tr>\n      <th>2205</th>\n      <td>S_2</td>\n      <td>C_2</td>\n    </tr>\n    <tr>\n      <th>2301</th>\n      <td>S_2</td>\n      <td>C_3</td>\n    </tr>\n    <tr>\n      <th>2302</th>\n      <td>S_2</td>\n      <td>C_3</td>\n    </tr>\n    <tr>\n      <th>2303</th>\n      <td>S_2</td>\n      <td>C_3</td>\n    </tr>\n    <tr>\n      <th>2304</th>\n      <td>S_2</td>\n      <td>C_3</td>\n    </tr>\n    <tr>\n      <th>2305</th>\n      <td>S_2</td>\n      <td>C_3</td>\n    </tr>\n    <tr>\n      <th>2401</th>\n      <td>S_2</td>\n      <td>C_4</td>\n    </tr>\n    <tr>\n      <th>2402</th>\n      <td>S_2</td>\n      <td>C_4</td>\n    </tr>\n    <tr>\n      <th>2403</th>\n      <td>S_2</td>\n      <td>C_4</td>\n    </tr>\n    <tr>\n      <th>2404</th>\n      <td>S_2</td>\n      <td>C_4</td>\n    </tr>\n    <tr>\n      <th>2405</th>\n      <td>S_2</td>\n      <td>C_4</td>\n    </tr>\n  </tbody>\n</table>\n</div>"
     },
     "execution_count": 50,
     "metadata": {},
     "output_type": "execute_result"
    }
   ],
   "source": [
    "df.iloc[:,0:2]"
   ],
   "metadata": {
    "collapsed": false,
    "pycharm": {
     "name": "#%%\n"
    }
   }
  },
  {
   "cell_type": "code",
   "execution_count": 59,
   "outputs": [
    {
     "data": {
      "text/plain": "     Physics  Weight   Address Class\nID                                  \n1104      B-      81  street_2   C_1\n1203      A+      53  street_6   C_2\n1302      A-      57  street_1   C_3\n2101       C      84  street_7   C_1\n2105       A      81  street_4   C_1\n2204      B-      74  street_1   C_2\n2303       C      99  street_7   C_3\n2402       B      82  street_7   C_4",
      "text/html": "<div>\n<style scoped>\n    .dataframe tbody tr th:only-of-type {\n        vertical-align: middle;\n    }\n\n    .dataframe tbody tr th {\n        vertical-align: top;\n    }\n\n    .dataframe thead th {\n        text-align: right;\n    }\n</style>\n<table border=\"1\" class=\"dataframe\">\n  <thead>\n    <tr style=\"text-align: right;\">\n      <th></th>\n      <th>Physics</th>\n      <th>Weight</th>\n      <th>Address</th>\n      <th>Class</th>\n    </tr>\n    <tr>\n      <th>ID</th>\n      <th></th>\n      <th></th>\n      <th></th>\n      <th></th>\n    </tr>\n  </thead>\n  <tbody>\n    <tr>\n      <th>1104</th>\n      <td>B-</td>\n      <td>81</td>\n      <td>street_2</td>\n      <td>C_1</td>\n    </tr>\n    <tr>\n      <th>1203</th>\n      <td>A+</td>\n      <td>53</td>\n      <td>street_6</td>\n      <td>C_2</td>\n    </tr>\n    <tr>\n      <th>1302</th>\n      <td>A-</td>\n      <td>57</td>\n      <td>street_1</td>\n      <td>C_3</td>\n    </tr>\n    <tr>\n      <th>2101</th>\n      <td>C</td>\n      <td>84</td>\n      <td>street_7</td>\n      <td>C_1</td>\n    </tr>\n    <tr>\n      <th>2105</th>\n      <td>A</td>\n      <td>81</td>\n      <td>street_4</td>\n      <td>C_1</td>\n    </tr>\n    <tr>\n      <th>2204</th>\n      <td>B-</td>\n      <td>74</td>\n      <td>street_1</td>\n      <td>C_2</td>\n    </tr>\n    <tr>\n      <th>2303</th>\n      <td>C</td>\n      <td>99</td>\n      <td>street_7</td>\n      <td>C_3</td>\n    </tr>\n    <tr>\n      <th>2402</th>\n      <td>B</td>\n      <td>82</td>\n      <td>street_7</td>\n      <td>C_4</td>\n    </tr>\n  </tbody>\n</table>\n</div>"
     },
     "execution_count": 59,
     "metadata": {},
     "output_type": "execute_result"
    }
   ],
   "source": [
    "df.iloc[3::4,7::-2]"
   ],
   "metadata": {
    "collapsed": false,
    "pycharm": {
     "name": "#%%\n"
    }
   }
  },
  {
   "cell_type": "code",
   "execution_count": 60,
   "outputs": [
    {
     "data": {
      "text/plain": "     School Class Gender   Address  Height  Weight  Math Physics\nID                                                              \n1104    S_1   C_1      F  street_2     167      81  80.4      B-",
      "text/html": "<div>\n<style scoped>\n    .dataframe tbody tr th:only-of-type {\n        vertical-align: middle;\n    }\n\n    .dataframe tbody tr th {\n        vertical-align: top;\n    }\n\n    .dataframe thead th {\n        text-align: right;\n    }\n</style>\n<table border=\"1\" class=\"dataframe\">\n  <thead>\n    <tr style=\"text-align: right;\">\n      <th></th>\n      <th>School</th>\n      <th>Class</th>\n      <th>Gender</th>\n      <th>Address</th>\n      <th>Height</th>\n      <th>Weight</th>\n      <th>Math</th>\n      <th>Physics</th>\n    </tr>\n    <tr>\n      <th>ID</th>\n      <th></th>\n      <th></th>\n      <th></th>\n      <th></th>\n      <th></th>\n      <th></th>\n      <th></th>\n      <th></th>\n    </tr>\n  </thead>\n  <tbody>\n    <tr>\n      <th>1104</th>\n      <td>S_1</td>\n      <td>C_1</td>\n      <td>F</td>\n      <td>street_2</td>\n      <td>167</td>\n      <td>81</td>\n      <td>80.4</td>\n      <td>B-</td>\n    </tr>\n  </tbody>\n</table>\n</div>"
     },
     "execution_count": 60,
     "metadata": {},
     "output_type": "execute_result"
    }
   ],
   "source": [
    "df.iloc[lambda x:[3]]"
   ],
   "metadata": {
    "collapsed": false,
    "pycharm": {
     "name": "#%%\n"
    }
   }
  },
  {
   "cell_type": "code",
   "execution_count": 62,
   "outputs": [
    {
     "data": {
      "text/plain": "     School Class Gender   Address  Height  Weight  Math Physics\nID                                                              \n1101    S_1   C_1      M  street_1     173      63  34.0      A+\n1102    S_1   C_1      F  street_2     192      73  32.5      B+\n1103    S_1   C_1      M  street_2     186      82  87.2      B+\n1104    S_1   C_1      F  street_2     167      81  80.4      B-\n1105    S_1   C_1      F  street_4     159      64  84.8      B+",
      "text/html": "<div>\n<style scoped>\n    .dataframe tbody tr th:only-of-type {\n        vertical-align: middle;\n    }\n\n    .dataframe tbody tr th {\n        vertical-align: top;\n    }\n\n    .dataframe thead th {\n        text-align: right;\n    }\n</style>\n<table border=\"1\" class=\"dataframe\">\n  <thead>\n    <tr style=\"text-align: right;\">\n      <th></th>\n      <th>School</th>\n      <th>Class</th>\n      <th>Gender</th>\n      <th>Address</th>\n      <th>Height</th>\n      <th>Weight</th>\n      <th>Math</th>\n      <th>Physics</th>\n    </tr>\n    <tr>\n      <th>ID</th>\n      <th></th>\n      <th></th>\n      <th></th>\n      <th></th>\n      <th></th>\n      <th></th>\n      <th></th>\n      <th></th>\n    </tr>\n  </thead>\n  <tbody>\n    <tr>\n      <th>1101</th>\n      <td>S_1</td>\n      <td>C_1</td>\n      <td>M</td>\n      <td>street_1</td>\n      <td>173</td>\n      <td>63</td>\n      <td>34.0</td>\n      <td>A+</td>\n    </tr>\n    <tr>\n      <th>1102</th>\n      <td>S_1</td>\n      <td>C_1</td>\n      <td>F</td>\n      <td>street_2</td>\n      <td>192</td>\n      <td>73</td>\n      <td>32.5</td>\n      <td>B+</td>\n    </tr>\n    <tr>\n      <th>1103</th>\n      <td>S_1</td>\n      <td>C_1</td>\n      <td>M</td>\n      <td>street_2</td>\n      <td>186</td>\n      <td>82</td>\n      <td>87.2</td>\n      <td>B+</td>\n    </tr>\n    <tr>\n      <th>1104</th>\n      <td>S_1</td>\n      <td>C_1</td>\n      <td>F</td>\n      <td>street_2</td>\n      <td>167</td>\n      <td>81</td>\n      <td>80.4</td>\n      <td>B-</td>\n    </tr>\n    <tr>\n      <th>1105</th>\n      <td>S_1</td>\n      <td>C_1</td>\n      <td>F</td>\n      <td>street_4</td>\n      <td>159</td>\n      <td>64</td>\n      <td>84.8</td>\n      <td>B+</td>\n    </tr>\n  </tbody>\n</table>\n</div>"
     },
     "execution_count": 62,
     "metadata": {},
     "output_type": "execute_result"
    }
   ],
   "source": [
    "df.iloc[(df[\"School\"] == 'S_1').values].head()"
   ],
   "metadata": {
    "collapsed": false,
    "pycharm": {
     "name": "#%%\n"
    }
   }
  },
  {
   "cell_type": "code",
   "execution_count": 73,
   "outputs": [
    {
     "data": {
      "text/plain": "     School Class Gender   Address  Height  Weight  Math Physics\nID                                                              \n1102    S_1   C_1      F  street_2     192      73  32.5      B+\n1103    S_1   C_1      M  street_2     186      82  87.2      B+\n1201    S_1   C_2      M  street_5     188      68  97.0      A-\n1202    S_1   C_2      F  street_4     176      94  63.5      B-\n1302    S_1   C_3      F  street_1     175      57  87.7      A-\n1303    S_1   C_3      M  street_7     188      82  49.7       B\n1304    S_1   C_3      M  street_2     195      70  85.2       A\n1305    S_1   C_3      F  street_5     187      69  61.7      B-\n2201    S_2   C_2      M  street_5     193     100  39.1       B\n2202    S_2   C_2      F  street_7     194      77  68.5      B+\n2204    S_2   C_2      M  street_1     175      74  47.2      B-\n2205    S_2   C_2      F  street_7     183      76  85.4       B\n2303    S_2   C_3      F  street_7     190      99  65.9       C\n2305    S_2   C_3      M  street_4     187      73  48.9       B\n2401    S_2   C_4      F  street_2     192      62  45.3       A\n2405    S_2   C_4      F  street_6     193      54  47.6       B",
      "text/html": "<div>\n<style scoped>\n    .dataframe tbody tr th:only-of-type {\n        vertical-align: middle;\n    }\n\n    .dataframe tbody tr th {\n        vertical-align: top;\n    }\n\n    .dataframe thead th {\n        text-align: right;\n    }\n</style>\n<table border=\"1\" class=\"dataframe\">\n  <thead>\n    <tr style=\"text-align: right;\">\n      <th></th>\n      <th>School</th>\n      <th>Class</th>\n      <th>Gender</th>\n      <th>Address</th>\n      <th>Height</th>\n      <th>Weight</th>\n      <th>Math</th>\n      <th>Physics</th>\n    </tr>\n    <tr>\n      <th>ID</th>\n      <th></th>\n      <th></th>\n      <th></th>\n      <th></th>\n      <th></th>\n      <th></th>\n      <th></th>\n      <th></th>\n    </tr>\n  </thead>\n  <tbody>\n    <tr>\n      <th>1102</th>\n      <td>S_1</td>\n      <td>C_1</td>\n      <td>F</td>\n      <td>street_2</td>\n      <td>192</td>\n      <td>73</td>\n      <td>32.5</td>\n      <td>B+</td>\n    </tr>\n    <tr>\n      <th>1103</th>\n      <td>S_1</td>\n      <td>C_1</td>\n      <td>M</td>\n      <td>street_2</td>\n      <td>186</td>\n      <td>82</td>\n      <td>87.2</td>\n      <td>B+</td>\n    </tr>\n    <tr>\n      <th>1201</th>\n      <td>S_1</td>\n      <td>C_2</td>\n      <td>M</td>\n      <td>street_5</td>\n      <td>188</td>\n      <td>68</td>\n      <td>97.0</td>\n      <td>A-</td>\n    </tr>\n    <tr>\n      <th>1202</th>\n      <td>S_1</td>\n      <td>C_2</td>\n      <td>F</td>\n      <td>street_4</td>\n      <td>176</td>\n      <td>94</td>\n      <td>63.5</td>\n      <td>B-</td>\n    </tr>\n    <tr>\n      <th>1302</th>\n      <td>S_1</td>\n      <td>C_3</td>\n      <td>F</td>\n      <td>street_1</td>\n      <td>175</td>\n      <td>57</td>\n      <td>87.7</td>\n      <td>A-</td>\n    </tr>\n    <tr>\n      <th>1303</th>\n      <td>S_1</td>\n      <td>C_3</td>\n      <td>M</td>\n      <td>street_7</td>\n      <td>188</td>\n      <td>82</td>\n      <td>49.7</td>\n      <td>B</td>\n    </tr>\n    <tr>\n      <th>1304</th>\n      <td>S_1</td>\n      <td>C_3</td>\n      <td>M</td>\n      <td>street_2</td>\n      <td>195</td>\n      <td>70</td>\n      <td>85.2</td>\n      <td>A</td>\n    </tr>\n    <tr>\n      <th>1305</th>\n      <td>S_1</td>\n      <td>C_3</td>\n      <td>F</td>\n      <td>street_5</td>\n      <td>187</td>\n      <td>69</td>\n      <td>61.7</td>\n      <td>B-</td>\n    </tr>\n    <tr>\n      <th>2201</th>\n      <td>S_2</td>\n      <td>C_2</td>\n      <td>M</td>\n      <td>street_5</td>\n      <td>193</td>\n      <td>100</td>\n      <td>39.1</td>\n      <td>B</td>\n    </tr>\n    <tr>\n      <th>2202</th>\n      <td>S_2</td>\n      <td>C_2</td>\n      <td>F</td>\n      <td>street_7</td>\n      <td>194</td>\n      <td>77</td>\n      <td>68.5</td>\n      <td>B+</td>\n    </tr>\n    <tr>\n      <th>2204</th>\n      <td>S_2</td>\n      <td>C_2</td>\n      <td>M</td>\n      <td>street_1</td>\n      <td>175</td>\n      <td>74</td>\n      <td>47.2</td>\n      <td>B-</td>\n    </tr>\n    <tr>\n      <th>2205</th>\n      <td>S_2</td>\n      <td>C_2</td>\n      <td>F</td>\n      <td>street_7</td>\n      <td>183</td>\n      <td>76</td>\n      <td>85.4</td>\n      <td>B</td>\n    </tr>\n    <tr>\n      <th>2303</th>\n      <td>S_2</td>\n      <td>C_3</td>\n      <td>F</td>\n      <td>street_7</td>\n      <td>190</td>\n      <td>99</td>\n      <td>65.9</td>\n      <td>C</td>\n    </tr>\n    <tr>\n      <th>2305</th>\n      <td>S_2</td>\n      <td>C_3</td>\n      <td>M</td>\n      <td>street_4</td>\n      <td>187</td>\n      <td>73</td>\n      <td>48.9</td>\n      <td>B</td>\n    </tr>\n    <tr>\n      <th>2401</th>\n      <td>S_2</td>\n      <td>C_4</td>\n      <td>F</td>\n      <td>street_2</td>\n      <td>192</td>\n      <td>62</td>\n      <td>45.3</td>\n      <td>A</td>\n    </tr>\n    <tr>\n      <th>2405</th>\n      <td>S_2</td>\n      <td>C_4</td>\n      <td>F</td>\n      <td>street_6</td>\n      <td>193</td>\n      <td>54</td>\n      <td>47.6</td>\n      <td>B</td>\n    </tr>\n  </tbody>\n</table>\n</div>"
     },
     "execution_count": 73,
     "metadata": {},
     "output_type": "execute_result"
    }
   ],
   "source": [
    "df.iloc[(df['Height'] >= 175).values]"
   ],
   "metadata": {
    "collapsed": false,
    "pycharm": {
     "name": "#%%\n"
    }
   }
  },
  {
   "cell_type": "code",
   "execution_count": 70,
   "outputs": [
    {
     "data": {
      "text/plain": "array(['S_1', 'S_1', 'S_1', 'S_1', 'S_1', 'S_1', 'S_1', 'S_1', 'S_1',\n       'S_1', 'S_1', 'S_1', 'S_1', 'S_1', 'S_1', 'S_2', 'S_2', 'S_2',\n       'S_2', 'S_2', 'S_2', 'S_2', 'S_2', 'S_2', 'S_2', 'S_2', 'S_2',\n       'S_2', 'S_2', 'S_2', 'S_2', 'S_2', 'S_2', 'S_2', 'S_2'],\n      dtype=object)"
     },
     "execution_count": 70,
     "metadata": {},
     "output_type": "execute_result"
    }
   ],
   "source": [
    "School_values = df['School'].values\n",
    "School_values"
   ],
   "metadata": {
    "collapsed": false,
    "pycharm": {
     "name": "#%%\n"
    }
   }
  },
  {
   "cell_type": "markdown",
   "source": [
    "[] operation index"
   ],
   "metadata": {
    "collapsed": false,
    "pycharm": {
     "name": "#%% md\n"
    }
   }
  },
  {
   "cell_type": "code",
   "execution_count": 77,
   "outputs": [
    {
     "data": {
      "text/plain": "34.0"
     },
     "execution_count": 77,
     "metadata": {},
     "output_type": "execute_result"
    }
   ],
   "source": [
    "s= pd.Series(df['Math'], index=df.index)\n",
    "s[1101]"
   ],
   "metadata": {
    "collapsed": false,
    "pycharm": {
     "name": "#%%\n"
    }
   }
  },
  {
   "cell_type": "code",
   "execution_count": 78,
   "outputs": [
    {
     "data": {
      "text/plain": "ID\n1101    34.0\n1102    32.5\nName: Math, dtype: float64"
     },
     "execution_count": 78,
     "metadata": {},
     "output_type": "execute_result"
    }
   ],
   "source": [
    "s[0:2]"
   ],
   "metadata": {
    "collapsed": false,
    "pycharm": {
     "name": "#%%\n"
    }
   }
  },
  {
   "cell_type": "code",
   "execution_count": 81,
   "outputs": [
    {
     "data": {
      "text/plain": "ID\n1101    34.0\n1102    32.5\nName: Math, dtype: float64"
     },
     "execution_count": 81,
     "metadata": {},
     "output_type": "execute_result"
    }
   ],
   "source": [
    "s[lambda x: x.index[0:2]]"
   ],
   "metadata": {
    "collapsed": false,
    "pycharm": {
     "name": "#%%\n"
    }
   }
  },
  {
   "cell_type": "code",
   "execution_count": 82,
   "outputs": [
    {
     "data": {
      "text/plain": "ID\n1103    87.2\n1104    80.4\n1105    84.8\n1201    97.0\n1302    87.7\n1304    85.2\n2101    83.3\n2205    85.4\n2304    95.5\nName: Math, dtype: float64"
     },
     "execution_count": 82,
     "metadata": {},
     "output_type": "execute_result"
    }
   ],
   "source": [
    "s[s>80]"
   ],
   "metadata": {
    "collapsed": false,
    "pycharm": {
     "name": "#%%\n"
    }
   }
  },
  {
   "cell_type": "code",
   "execution_count": 98,
   "outputs": [
    {
     "data": {
      "text/plain": "1    1\n3    2\n5    3\n6    4\ndtype: int64"
     },
     "execution_count": 98,
     "metadata": {},
     "output_type": "execute_result"
    }
   ],
   "source": [
    "s_int = pd.Series([1,2,3,4],index=[1,3,5,6])\n",
    "s_float = pd.Series([1,2,3,4],index=[1.,3.,5.,6.])\n",
    "s_int"
   ],
   "metadata": {
    "collapsed": false,
    "pycharm": {
     "name": "#%%\n"
    }
   }
  },
  {
   "cell_type": "code",
   "execution_count": 97,
   "outputs": [
    {
     "data": {
      "text/plain": "3"
     },
     "execution_count": 97,
     "metadata": {},
     "output_type": "execute_result"
    }
   ],
   "source": [
    "s_int[5]"
   ],
   "metadata": {
    "collapsed": false,
    "pycharm": {
     "name": "#%%\n"
    }
   }
  },
  {
   "cell_type": "code",
   "execution_count": 99,
   "outputs": [
    {
     "data": {
      "text/plain": "5    3\n6    4\ndtype: int64"
     },
     "execution_count": 99,
     "metadata": {},
     "output_type": "execute_result"
    }
   ],
   "source": [
    "s_int[2:]"
   ],
   "metadata": {
    "collapsed": false,
    "pycharm": {
     "name": "#%%\n"
    }
   }
  },
  {
   "cell_type": "code",
   "execution_count": 89,
   "outputs": [
    {
     "data": {
      "text/plain": "3.0    2\n5.0    3\n6.0    4\ndtype: int64"
     },
     "execution_count": 89,
     "metadata": {},
     "output_type": "execute_result"
    }
   ],
   "source": [
    "s_float[2:]"
   ],
   "metadata": {
    "collapsed": false,
    "pycharm": {
     "name": "#%%\n"
    }
   }
  },
  {
   "cell_type": "markdown",
   "source": [
    "Dataframe[] operation"
   ],
   "metadata": {
    "collapsed": false,
    "pycharm": {
     "name": "#%% md\n"
    }
   }
  },
  {
   "cell_type": "code",
   "execution_count": 100,
   "outputs": [
    {
     "data": {
      "text/plain": "     School Class Gender   Address  Height  Weight  Math Physics\nID                                                              \n1102    S_1   C_1      F  street_2     192      73  32.5      B+",
      "text/html": "<div>\n<style scoped>\n    .dataframe tbody tr th:only-of-type {\n        vertical-align: middle;\n    }\n\n    .dataframe tbody tr th {\n        vertical-align: top;\n    }\n\n    .dataframe thead th {\n        text-align: right;\n    }\n</style>\n<table border=\"1\" class=\"dataframe\">\n  <thead>\n    <tr style=\"text-align: right;\">\n      <th></th>\n      <th>School</th>\n      <th>Class</th>\n      <th>Gender</th>\n      <th>Address</th>\n      <th>Height</th>\n      <th>Weight</th>\n      <th>Math</th>\n      <th>Physics</th>\n    </tr>\n    <tr>\n      <th>ID</th>\n      <th></th>\n      <th></th>\n      <th></th>\n      <th></th>\n      <th></th>\n      <th></th>\n      <th></th>\n      <th></th>\n    </tr>\n  </thead>\n  <tbody>\n    <tr>\n      <th>1102</th>\n      <td>S_1</td>\n      <td>C_1</td>\n      <td>F</td>\n      <td>street_2</td>\n      <td>192</td>\n      <td>73</td>\n      <td>32.5</td>\n      <td>B+</td>\n    </tr>\n  </tbody>\n</table>\n</div>"
     },
     "execution_count": 100,
     "metadata": {},
     "output_type": "execute_result"
    }
   ],
   "source": [
    "df[1:2]"
   ],
   "metadata": {
    "collapsed": false,
    "pycharm": {
     "name": "#%%\n"
    }
   }
  },
  {
   "cell_type": "code",
   "execution_count": 104,
   "outputs": [
    {
     "data": {
      "text/plain": "     School Class Gender   Address  Height  Weight  Math Physics\nID                                                              \n1102    S_1   C_1      F  street_2     192      73  32.5      B+",
      "text/html": "<div>\n<style scoped>\n    .dataframe tbody tr th:only-of-type {\n        vertical-align: middle;\n    }\n\n    .dataframe tbody tr th {\n        vertical-align: top;\n    }\n\n    .dataframe thead th {\n        text-align: right;\n    }\n</style>\n<table border=\"1\" class=\"dataframe\">\n  <thead>\n    <tr style=\"text-align: right;\">\n      <th></th>\n      <th>School</th>\n      <th>Class</th>\n      <th>Gender</th>\n      <th>Address</th>\n      <th>Height</th>\n      <th>Weight</th>\n      <th>Math</th>\n      <th>Physics</th>\n    </tr>\n    <tr>\n      <th>ID</th>\n      <th></th>\n      <th></th>\n      <th></th>\n      <th></th>\n      <th></th>\n      <th></th>\n      <th></th>\n      <th></th>\n    </tr>\n  </thead>\n  <tbody>\n    <tr>\n      <th>1102</th>\n      <td>S_1</td>\n      <td>C_1</td>\n      <td>F</td>\n      <td>street_2</td>\n      <td>192</td>\n      <td>73</td>\n      <td>32.5</td>\n      <td>B+</td>\n    </tr>\n  </tbody>\n</table>\n</div>"
     },
     "execution_count": 104,
     "metadata": {},
     "output_type": "execute_result"
    }
   ],
   "source": [
    "row = df.index.get_loc(1102)# Good method to get label location\n",
    "df[row:row+1]"
   ],
   "metadata": {
    "collapsed": false,
    "pycharm": {
     "name": "#%%\n"
    }
   }
  },
  {
   "cell_type": "code",
   "execution_count": 105,
   "outputs": [
    {
     "data": {
      "text/plain": "1"
     },
     "execution_count": 105,
     "metadata": {},
     "output_type": "execute_result"
    }
   ],
   "source": [
    "# forexample\n",
    "s_int.index.get_loc(3)"
   ],
   "metadata": {
    "collapsed": false,
    "pycharm": {
     "name": "#%%\n"
    }
   }
  },
  {
   "cell_type": "code",
   "execution_count": 106,
   "outputs": [
    {
     "data": {
      "text/plain": "     School Class Gender   Address  Height  Weight  Math Physics\nID                                                              \n1104    S_1   C_1      F  street_2     167      81  80.4      B-\n1105    S_1   C_1      F  street_4     159      64  84.8      B+",
      "text/html": "<div>\n<style scoped>\n    .dataframe tbody tr th:only-of-type {\n        vertical-align: middle;\n    }\n\n    .dataframe tbody tr th {\n        vertical-align: top;\n    }\n\n    .dataframe thead th {\n        text-align: right;\n    }\n</style>\n<table border=\"1\" class=\"dataframe\">\n  <thead>\n    <tr style=\"text-align: right;\">\n      <th></th>\n      <th>School</th>\n      <th>Class</th>\n      <th>Gender</th>\n      <th>Address</th>\n      <th>Height</th>\n      <th>Weight</th>\n      <th>Math</th>\n      <th>Physics</th>\n    </tr>\n    <tr>\n      <th>ID</th>\n      <th></th>\n      <th></th>\n      <th></th>\n      <th></th>\n      <th></th>\n      <th></th>\n      <th></th>\n      <th></th>\n    </tr>\n  </thead>\n  <tbody>\n    <tr>\n      <th>1104</th>\n      <td>S_1</td>\n      <td>C_1</td>\n      <td>F</td>\n      <td>street_2</td>\n      <td>167</td>\n      <td>81</td>\n      <td>80.4</td>\n      <td>B-</td>\n    </tr>\n    <tr>\n      <th>1105</th>\n      <td>S_1</td>\n      <td>C_1</td>\n      <td>F</td>\n      <td>street_4</td>\n      <td>159</td>\n      <td>64</td>\n      <td>84.8</td>\n      <td>B+</td>\n    </tr>\n  </tbody>\n</table>\n</div>"
     },
     "execution_count": 106,
     "metadata": {},
     "output_type": "execute_result"
    }
   ],
   "source": [
    "df[3:5]"
   ],
   "metadata": {
    "collapsed": false,
    "pycharm": {
     "name": "#%%\n"
    }
   }
  },
  {
   "cell_type": "code",
   "execution_count": 108,
   "outputs": [
    {
     "data": {
      "text/plain": "ID\n1101    S_1\n1102    S_1\n1103    S_1\n1104    S_1\n1105    S_1\nName: School, dtype: object"
     },
     "execution_count": 108,
     "metadata": {},
     "output_type": "execute_result"
    }
   ],
   "source": [
    "df['School'].head()"
   ],
   "metadata": {
    "collapsed": false,
    "pycharm": {
     "name": "#%%\n"
    }
   }
  },
  {
   "cell_type": "code",
   "execution_count": 110,
   "outputs": [
    {
     "data": {
      "text/plain": "     School  Height\nID                 \n1101    S_1     173\n1102    S_1     192\n1103    S_1     186\n1104    S_1     167\n1105    S_1     159",
      "text/html": "<div>\n<style scoped>\n    .dataframe tbody tr th:only-of-type {\n        vertical-align: middle;\n    }\n\n    .dataframe tbody tr th {\n        vertical-align: top;\n    }\n\n    .dataframe thead th {\n        text-align: right;\n    }\n</style>\n<table border=\"1\" class=\"dataframe\">\n  <thead>\n    <tr style=\"text-align: right;\">\n      <th></th>\n      <th>School</th>\n      <th>Height</th>\n    </tr>\n    <tr>\n      <th>ID</th>\n      <th></th>\n      <th></th>\n    </tr>\n  </thead>\n  <tbody>\n    <tr>\n      <th>1101</th>\n      <td>S_1</td>\n      <td>173</td>\n    </tr>\n    <tr>\n      <th>1102</th>\n      <td>S_1</td>\n      <td>192</td>\n    </tr>\n    <tr>\n      <th>1103</th>\n      <td>S_1</td>\n      <td>186</td>\n    </tr>\n    <tr>\n      <th>1104</th>\n      <td>S_1</td>\n      <td>167</td>\n    </tr>\n    <tr>\n      <th>1105</th>\n      <td>S_1</td>\n      <td>159</td>\n    </tr>\n  </tbody>\n</table>\n</div>"
     },
     "execution_count": 110,
     "metadata": {},
     "output_type": "execute_result"
    }
   ],
   "source": [
    "df[['School','Height']].head()"
   ],
   "metadata": {
    "collapsed": false,
    "pycharm": {
     "name": "#%%\n"
    }
   }
  },
  {
   "cell_type": "markdown",
   "source": [],
   "metadata": {
    "collapsed": false,
    "pycharm": {
     "name": "#%% md\n"
    }
   }
  },
  {
   "cell_type": "code",
   "execution_count": 113,
   "outputs": [
    {
     "data": {
      "text/plain": "      Math Physics\nID                \n1101  34.0      A+\n1102  32.5      B+\n1103  87.2      B+\n1104  80.4      B-\n1105  84.8      B+",
      "text/html": "<div>\n<style scoped>\n    .dataframe tbody tr th:only-of-type {\n        vertical-align: middle;\n    }\n\n    .dataframe tbody tr th {\n        vertical-align: top;\n    }\n\n    .dataframe thead th {\n        text-align: right;\n    }\n</style>\n<table border=\"1\" class=\"dataframe\">\n  <thead>\n    <tr style=\"text-align: right;\">\n      <th></th>\n      <th>Math</th>\n      <th>Physics</th>\n    </tr>\n    <tr>\n      <th>ID</th>\n      <th></th>\n      <th></th>\n    </tr>\n  </thead>\n  <tbody>\n    <tr>\n      <th>1101</th>\n      <td>34.0</td>\n      <td>A+</td>\n    </tr>\n    <tr>\n      <th>1102</th>\n      <td>32.5</td>\n      <td>B+</td>\n    </tr>\n    <tr>\n      <th>1103</th>\n      <td>87.2</td>\n      <td>B+</td>\n    </tr>\n    <tr>\n      <th>1104</th>\n      <td>80.4</td>\n      <td>B-</td>\n    </tr>\n    <tr>\n      <th>1105</th>\n      <td>84.8</td>\n      <td>B+</td>\n    </tr>\n  </tbody>\n</table>\n</div>"
     },
     "execution_count": 113,
     "metadata": {},
     "output_type": "execute_result"
    }
   ],
   "source": [
    "df[lambda x : ['Math','Physics']].head()"
   ],
   "metadata": {
    "collapsed": false,
    "pycharm": {
     "name": "#%%\n"
    }
   }
  },
  {
   "cell_type": "code",
   "execution_count": 114,
   "outputs": [
    {
     "data": {
      "text/plain": "     School Class Gender   Address  Height  Weight  Math Physics\nID                                                              \n1102    S_1   C_1      F  street_2     192      73  32.5      B+\n1104    S_1   C_1      F  street_2     167      81  80.4      B-\n1105    S_1   C_1      F  street_4     159      64  84.8      B+\n1202    S_1   C_2      F  street_4     176      94  63.5      B-\n1204    S_1   C_2      F  street_5     162      63  33.8       B",
      "text/html": "<div>\n<style scoped>\n    .dataframe tbody tr th:only-of-type {\n        vertical-align: middle;\n    }\n\n    .dataframe tbody tr th {\n        vertical-align: top;\n    }\n\n    .dataframe thead th {\n        text-align: right;\n    }\n</style>\n<table border=\"1\" class=\"dataframe\">\n  <thead>\n    <tr style=\"text-align: right;\">\n      <th></th>\n      <th>School</th>\n      <th>Class</th>\n      <th>Gender</th>\n      <th>Address</th>\n      <th>Height</th>\n      <th>Weight</th>\n      <th>Math</th>\n      <th>Physics</th>\n    </tr>\n    <tr>\n      <th>ID</th>\n      <th></th>\n      <th></th>\n      <th></th>\n      <th></th>\n      <th></th>\n      <th></th>\n      <th></th>\n      <th></th>\n    </tr>\n  </thead>\n  <tbody>\n    <tr>\n      <th>1102</th>\n      <td>S_1</td>\n      <td>C_1</td>\n      <td>F</td>\n      <td>street_2</td>\n      <td>192</td>\n      <td>73</td>\n      <td>32.5</td>\n      <td>B+</td>\n    </tr>\n    <tr>\n      <th>1104</th>\n      <td>S_1</td>\n      <td>C_1</td>\n      <td>F</td>\n      <td>street_2</td>\n      <td>167</td>\n      <td>81</td>\n      <td>80.4</td>\n      <td>B-</td>\n    </tr>\n    <tr>\n      <th>1105</th>\n      <td>S_1</td>\n      <td>C_1</td>\n      <td>F</td>\n      <td>street_4</td>\n      <td>159</td>\n      <td>64</td>\n      <td>84.8</td>\n      <td>B+</td>\n    </tr>\n    <tr>\n      <th>1202</th>\n      <td>S_1</td>\n      <td>C_2</td>\n      <td>F</td>\n      <td>street_4</td>\n      <td>176</td>\n      <td>94</td>\n      <td>63.5</td>\n      <td>B-</td>\n    </tr>\n    <tr>\n      <th>1204</th>\n      <td>S_1</td>\n      <td>C_2</td>\n      <td>F</td>\n      <td>street_5</td>\n      <td>162</td>\n      <td>63</td>\n      <td>33.8</td>\n      <td>B</td>\n    </tr>\n  </tbody>\n</table>\n</div>"
     },
     "execution_count": 114,
     "metadata": {},
     "output_type": "execute_result"
    }
   ],
   "source": [
    "df[df['Gender'] == 'F'].head()"
   ],
   "metadata": {
    "collapsed": false,
    "pycharm": {
     "name": "#%%\n"
    }
   }
  },
  {
   "cell_type": "markdown",
   "source": [
    "Bull index operation"
   ],
   "metadata": {
    "collapsed": false,
    "pycharm": {
     "name": "#%% md\n"
    }
   }
  },
  {
   "cell_type": "code",
   "execution_count": 116,
   "outputs": [
    {
     "data": {
      "text/plain": "     School Class Gender   Address  Height  Weight  Math Physics\nID                                                              \n1102    S_1   C_1      F  street_2     192      73  32.5      B+\n1104    S_1   C_1      F  street_2     167      81  80.4      B-\n2401    S_2   C_4      F  street_2     192      62  45.3       A\n2404    S_2   C_4      F  street_2     160      84  67.7       B",
      "text/html": "<div>\n<style scoped>\n    .dataframe tbody tr th:only-of-type {\n        vertical-align: middle;\n    }\n\n    .dataframe tbody tr th {\n        vertical-align: top;\n    }\n\n    .dataframe thead th {\n        text-align: right;\n    }\n</style>\n<table border=\"1\" class=\"dataframe\">\n  <thead>\n    <tr style=\"text-align: right;\">\n      <th></th>\n      <th>School</th>\n      <th>Class</th>\n      <th>Gender</th>\n      <th>Address</th>\n      <th>Height</th>\n      <th>Weight</th>\n      <th>Math</th>\n      <th>Physics</th>\n    </tr>\n    <tr>\n      <th>ID</th>\n      <th></th>\n      <th></th>\n      <th></th>\n      <th></th>\n      <th></th>\n      <th></th>\n      <th></th>\n      <th></th>\n    </tr>\n  </thead>\n  <tbody>\n    <tr>\n      <th>1102</th>\n      <td>S_1</td>\n      <td>C_1</td>\n      <td>F</td>\n      <td>street_2</td>\n      <td>192</td>\n      <td>73</td>\n      <td>32.5</td>\n      <td>B+</td>\n    </tr>\n    <tr>\n      <th>1104</th>\n      <td>S_1</td>\n      <td>C_1</td>\n      <td>F</td>\n      <td>street_2</td>\n      <td>167</td>\n      <td>81</td>\n      <td>80.4</td>\n      <td>B-</td>\n    </tr>\n    <tr>\n      <th>2401</th>\n      <td>S_2</td>\n      <td>C_4</td>\n      <td>F</td>\n      <td>street_2</td>\n      <td>192</td>\n      <td>62</td>\n      <td>45.3</td>\n      <td>A</td>\n    </tr>\n    <tr>\n      <th>2404</th>\n      <td>S_2</td>\n      <td>C_4</td>\n      <td>F</td>\n      <td>street_2</td>\n      <td>160</td>\n      <td>84</td>\n      <td>67.7</td>\n      <td>B</td>\n    </tr>\n  </tbody>\n</table>\n</div>"
     },
     "execution_count": 116,
     "metadata": {},
     "output_type": "execute_result"
    }
   ],
   "source": [
    "df[(df['Gender'] == 'F') & (df['Address']== 'street_2')].head()"
   ],
   "metadata": {
    "collapsed": false,
    "pycharm": {
     "name": "#%%\n"
    }
   }
  },
  {
   "cell_type": "code",
   "execution_count": 117,
   "outputs": [
    {
     "data": {
      "text/plain": "     School Class Gender   Address  Height  Weight  Math Physics\nID                                                              \n1103    S_1   C_1      M  street_2     186      82  87.2      B+\n1201    S_1   C_2      M  street_5     188      68  97.0      A-\n1302    S_1   C_3      F  street_1     175      57  87.7      A-\n1303    S_1   C_3      M  street_7     188      82  49.7       B\n1304    S_1   C_3      M  street_2     195      70  85.2       A",
      "text/html": "<div>\n<style scoped>\n    .dataframe tbody tr th:only-of-type {\n        vertical-align: middle;\n    }\n\n    .dataframe tbody tr th {\n        vertical-align: top;\n    }\n\n    .dataframe thead th {\n        text-align: right;\n    }\n</style>\n<table border=\"1\" class=\"dataframe\">\n  <thead>\n    <tr style=\"text-align: right;\">\n      <th></th>\n      <th>School</th>\n      <th>Class</th>\n      <th>Gender</th>\n      <th>Address</th>\n      <th>Height</th>\n      <th>Weight</th>\n      <th>Math</th>\n      <th>Physics</th>\n    </tr>\n    <tr>\n      <th>ID</th>\n      <th></th>\n      <th></th>\n      <th></th>\n      <th></th>\n      <th></th>\n      <th></th>\n      <th></th>\n      <th></th>\n    </tr>\n  </thead>\n  <tbody>\n    <tr>\n      <th>1103</th>\n      <td>S_1</td>\n      <td>C_1</td>\n      <td>M</td>\n      <td>street_2</td>\n      <td>186</td>\n      <td>82</td>\n      <td>87.2</td>\n      <td>B+</td>\n    </tr>\n    <tr>\n      <th>1201</th>\n      <td>S_1</td>\n      <td>C_2</td>\n      <td>M</td>\n      <td>street_5</td>\n      <td>188</td>\n      <td>68</td>\n      <td>97.0</td>\n      <td>A-</td>\n    </tr>\n    <tr>\n      <th>1302</th>\n      <td>S_1</td>\n      <td>C_3</td>\n      <td>F</td>\n      <td>street_1</td>\n      <td>175</td>\n      <td>57</td>\n      <td>87.7</td>\n      <td>A-</td>\n    </tr>\n    <tr>\n      <th>1303</th>\n      <td>S_1</td>\n      <td>C_3</td>\n      <td>M</td>\n      <td>street_7</td>\n      <td>188</td>\n      <td>82</td>\n      <td>49.7</td>\n      <td>B</td>\n    </tr>\n    <tr>\n      <th>1304</th>\n      <td>S_1</td>\n      <td>C_3</td>\n      <td>M</td>\n      <td>street_2</td>\n      <td>195</td>\n      <td>70</td>\n      <td>85.2</td>\n      <td>A</td>\n    </tr>\n  </tbody>\n</table>\n</div>"
     },
     "execution_count": 117,
     "metadata": {},
     "output_type": "execute_result"
    }
   ],
   "source": [
    "df[(df['Math']> 85) | (df['Address'] == 'street_7')].head()"
   ],
   "metadata": {
    "collapsed": false,
    "pycharm": {
     "name": "#%%\n"
    }
   }
  },
  {
   "cell_type": "markdown",
   "source": [
    "~ represent all not"
   ],
   "metadata": {
    "collapsed": false,
    "pycharm": {
     "name": "#%% md\n"
    }
   }
  },
  {
   "cell_type": "code",
   "execution_count": 118,
   "outputs": [
    {
     "data": {
      "text/plain": "     School Class Gender   Address  Height  Weight  Math Physics\nID                                                              \n1102    S_1   C_1      F  street_2     192      73  32.5      B+\n1202    S_1   C_2      F  street_4     176      94  63.5      B-\n1203    S_1   C_2      M  street_6     160      53  58.8      A+\n1204    S_1   C_2      F  street_5     162      63  33.8       B\n1205    S_1   C_2      F  street_6     167      63  68.4      B-",
      "text/html": "<div>\n<style scoped>\n    .dataframe tbody tr th:only-of-type {\n        vertical-align: middle;\n    }\n\n    .dataframe tbody tr th {\n        vertical-align: top;\n    }\n\n    .dataframe thead th {\n        text-align: right;\n    }\n</style>\n<table border=\"1\" class=\"dataframe\">\n  <thead>\n    <tr style=\"text-align: right;\">\n      <th></th>\n      <th>School</th>\n      <th>Class</th>\n      <th>Gender</th>\n      <th>Address</th>\n      <th>Height</th>\n      <th>Weight</th>\n      <th>Math</th>\n      <th>Physics</th>\n    </tr>\n    <tr>\n      <th>ID</th>\n      <th></th>\n      <th></th>\n      <th></th>\n      <th></th>\n      <th></th>\n      <th></th>\n      <th></th>\n      <th></th>\n    </tr>\n  </thead>\n  <tbody>\n    <tr>\n      <th>1102</th>\n      <td>S_1</td>\n      <td>C_1</td>\n      <td>F</td>\n      <td>street_2</td>\n      <td>192</td>\n      <td>73</td>\n      <td>32.5</td>\n      <td>B+</td>\n    </tr>\n    <tr>\n      <th>1202</th>\n      <td>S_1</td>\n      <td>C_2</td>\n      <td>F</td>\n      <td>street_4</td>\n      <td>176</td>\n      <td>94</td>\n      <td>63.5</td>\n      <td>B-</td>\n    </tr>\n    <tr>\n      <th>1203</th>\n      <td>S_1</td>\n      <td>C_2</td>\n      <td>M</td>\n      <td>street_6</td>\n      <td>160</td>\n      <td>53</td>\n      <td>58.8</td>\n      <td>A+</td>\n    </tr>\n    <tr>\n      <th>1204</th>\n      <td>S_1</td>\n      <td>C_2</td>\n      <td>F</td>\n      <td>street_5</td>\n      <td>162</td>\n      <td>63</td>\n      <td>33.8</td>\n      <td>B</td>\n    </tr>\n    <tr>\n      <th>1205</th>\n      <td>S_1</td>\n      <td>C_2</td>\n      <td>F</td>\n      <td>street_6</td>\n      <td>167</td>\n      <td>63</td>\n      <td>68.4</td>\n      <td>B-</td>\n    </tr>\n  </tbody>\n</table>\n</div>"
     },
     "execution_count": 118,
     "metadata": {},
     "output_type": "execute_result"
    }
   ],
   "source": [
    "df[~((df['Math']> 75) | (df['Address'] == 'street_1'))].head()"
   ],
   "metadata": {
    "collapsed": false,
    "pycharm": {
     "name": "#%%\n"
    }
   }
  },
  {
   "cell_type": "code",
   "execution_count": 119,
   "outputs": [
    {
     "data": {
      "text/plain": "     Physics\nID          \n1103      B+\n1104      B-\n1105      B+\n1201      A-\n1202      B-\n1205      B-\n1302      A-\n1304       A\n1305      B-\n2101       C\n2104      B+\n2202      B+\n2203      A+\n2205       B\n2301      B+\n2303       C\n2304      A-\n2404       B",
      "text/html": "<div>\n<style scoped>\n    .dataframe tbody tr th:only-of-type {\n        vertical-align: middle;\n    }\n\n    .dataframe tbody tr th {\n        vertical-align: top;\n    }\n\n    .dataframe thead th {\n        text-align: right;\n    }\n</style>\n<table border=\"1\" class=\"dataframe\">\n  <thead>\n    <tr style=\"text-align: right;\">\n      <th></th>\n      <th>Physics</th>\n    </tr>\n    <tr>\n      <th>ID</th>\n      <th></th>\n    </tr>\n  </thead>\n  <tbody>\n    <tr>\n      <th>1103</th>\n      <td>B+</td>\n    </tr>\n    <tr>\n      <th>1104</th>\n      <td>B-</td>\n    </tr>\n    <tr>\n      <th>1105</th>\n      <td>B+</td>\n    </tr>\n    <tr>\n      <th>1201</th>\n      <td>A-</td>\n    </tr>\n    <tr>\n      <th>1202</th>\n      <td>B-</td>\n    </tr>\n    <tr>\n      <th>1205</th>\n      <td>B-</td>\n    </tr>\n    <tr>\n      <th>1302</th>\n      <td>A-</td>\n    </tr>\n    <tr>\n      <th>1304</th>\n      <td>A</td>\n    </tr>\n    <tr>\n      <th>1305</th>\n      <td>B-</td>\n    </tr>\n    <tr>\n      <th>2101</th>\n      <td>C</td>\n    </tr>\n    <tr>\n      <th>2104</th>\n      <td>B+</td>\n    </tr>\n    <tr>\n      <th>2202</th>\n      <td>B+</td>\n    </tr>\n    <tr>\n      <th>2203</th>\n      <td>A+</td>\n    </tr>\n    <tr>\n      <th>2205</th>\n      <td>B</td>\n    </tr>\n    <tr>\n      <th>2301</th>\n      <td>B+</td>\n    </tr>\n    <tr>\n      <th>2303</th>\n      <td>C</td>\n    </tr>\n    <tr>\n      <th>2304</th>\n      <td>A-</td>\n    </tr>\n    <tr>\n      <th>2404</th>\n      <td>B</td>\n    </tr>\n  </tbody>\n</table>\n</div>"
     },
     "execution_count": 119,
     "metadata": {},
     "output_type": "execute_result"
    }
   ],
   "source": [
    "df.loc[df['Math'] > 60,df.columns == 'Physics']"
   ],
   "metadata": {
    "collapsed": false,
    "pycharm": {
     "name": "#%%\n"
    }
   }
  },
  {
   "cell_type": "code",
   "execution_count": 120,
   "outputs": [
    {
     "data": {
      "text/plain": "     School Class Gender   Address  Height  Weight  Math Physics\nID                                                              \n1101    S_1   C_1      M  street_1     173      63  34.0      A+\n2105    S_2   C_1      M  street_4     170      81  34.2       A\n2203    S_2   C_2      M  street_4     155      91  73.8      A+",
      "text/html": "<div>\n<style scoped>\n    .dataframe tbody tr th:only-of-type {\n        vertical-align: middle;\n    }\n\n    .dataframe tbody tr th {\n        vertical-align: top;\n    }\n\n    .dataframe thead th {\n        text-align: right;\n    }\n</style>\n<table border=\"1\" class=\"dataframe\">\n  <thead>\n    <tr style=\"text-align: right;\">\n      <th></th>\n      <th>School</th>\n      <th>Class</th>\n      <th>Gender</th>\n      <th>Address</th>\n      <th>Height</th>\n      <th>Weight</th>\n      <th>Math</th>\n      <th>Physics</th>\n    </tr>\n    <tr>\n      <th>ID</th>\n      <th></th>\n      <th></th>\n      <th></th>\n      <th></th>\n      <th></th>\n      <th></th>\n      <th></th>\n      <th></th>\n    </tr>\n  </thead>\n  <tbody>\n    <tr>\n      <th>1101</th>\n      <td>S_1</td>\n      <td>C_1</td>\n      <td>M</td>\n      <td>street_1</td>\n      <td>173</td>\n      <td>63</td>\n      <td>34.0</td>\n      <td>A+</td>\n    </tr>\n    <tr>\n      <th>2105</th>\n      <td>S_2</td>\n      <td>C_1</td>\n      <td>M</td>\n      <td>street_4</td>\n      <td>170</td>\n      <td>81</td>\n      <td>34.2</td>\n      <td>A</td>\n    </tr>\n    <tr>\n      <th>2203</th>\n      <td>S_2</td>\n      <td>C_2</td>\n      <td>M</td>\n      <td>street_4</td>\n      <td>155</td>\n      <td>91</td>\n      <td>73.8</td>\n      <td>A+</td>\n    </tr>\n  </tbody>\n</table>\n</div>"
     },
     "execution_count": 120,
     "metadata": {},
     "output_type": "execute_result"
    }
   ],
   "source": [
    "df[(df['Address'].isin(['street_1','street_4'])) & (df['Physics'].isin(['A','A+']))]"
   ],
   "metadata": {
    "collapsed": false,
    "pycharm": {
     "name": "#%%\n"
    }
   }
  },
  {
   "cell_type": "code",
   "execution_count": 123,
   "outputs": [
    {
     "data": {
      "text/plain": "     School Class Gender   Address  Height  Weight  Math Physics\nID                                                              \n1101    S_1   C_1      M  street_1     173      63  34.0      A+\n2105    S_2   C_1      M  street_4     170      81  34.2       A\n2203    S_2   C_2      M  street_4     155      91  73.8      A+",
      "text/html": "<div>\n<style scoped>\n    .dataframe tbody tr th:only-of-type {\n        vertical-align: middle;\n    }\n\n    .dataframe tbody tr th {\n        vertical-align: top;\n    }\n\n    .dataframe thead th {\n        text-align: right;\n    }\n</style>\n<table border=\"1\" class=\"dataframe\">\n  <thead>\n    <tr style=\"text-align: right;\">\n      <th></th>\n      <th>School</th>\n      <th>Class</th>\n      <th>Gender</th>\n      <th>Address</th>\n      <th>Height</th>\n      <th>Weight</th>\n      <th>Math</th>\n      <th>Physics</th>\n    </tr>\n    <tr>\n      <th>ID</th>\n      <th></th>\n      <th></th>\n      <th></th>\n      <th></th>\n      <th></th>\n      <th></th>\n      <th></th>\n      <th></th>\n    </tr>\n  </thead>\n  <tbody>\n    <tr>\n      <th>1101</th>\n      <td>S_1</td>\n      <td>C_1</td>\n      <td>M</td>\n      <td>street_1</td>\n      <td>173</td>\n      <td>63</td>\n      <td>34.0</td>\n      <td>A+</td>\n    </tr>\n    <tr>\n      <th>2105</th>\n      <td>S_2</td>\n      <td>C_1</td>\n      <td>M</td>\n      <td>street_4</td>\n      <td>170</td>\n      <td>81</td>\n      <td>34.2</td>\n      <td>A</td>\n    </tr>\n    <tr>\n      <th>2203</th>\n      <td>S_2</td>\n      <td>C_2</td>\n      <td>M</td>\n      <td>street_4</td>\n      <td>155</td>\n      <td>91</td>\n      <td>73.8</td>\n      <td>A+</td>\n    </tr>\n  </tbody>\n</table>\n</div>"
     },
     "execution_count": 123,
     "metadata": {},
     "output_type": "execute_result"
    }
   ],
   "source": [
    "df[df[['Address','Physics']].isin({'Address':['street_1','street_4'],'Physics':['A','A+']}).all(1)]"
   ],
   "metadata": {
    "collapsed": false,
    "pycharm": {
     "name": "#%%\n"
    }
   }
  },
  {
   "cell_type": "code",
   "execution_count": null,
   "outputs": [],
   "source": [],
   "metadata": {
    "collapsed": false,
    "pycharm": {
     "name": "#%%\n"
    }
   }
  }
 ],
 "metadata": {
  "kernelspec": {
   "display_name": "Python 3",
   "language": "python",
   "name": "python3"
  },
  "language_info": {
   "codemirror_mode": {
    "name": "ipython",
    "version": 2
   },
   "file_extension": ".py",
   "mimetype": "text/x-python",
   "name": "python",
   "nbconvert_exporter": "python",
   "pygments_lexer": "ipython2",
   "version": "2.7.6"
  }
 },
 "nbformat": 4,
 "nbformat_minor": 0
}